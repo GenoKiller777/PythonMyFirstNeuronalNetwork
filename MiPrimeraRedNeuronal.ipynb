{
  "nbformat": 4,
  "nbformat_minor": 0,
  "metadata": {
    "colab": {
      "name": "MiPrimeraRedNeuronal.ipynb",
      "provenance": [],
      "collapsed_sections": []
    },
    "kernelspec": {
      "name": "python3",
      "display_name": "Python 3"
    },
    "language_info": {
      "name": "python"
    }
  },
  "cells": [
    {
      "cell_type": "code",
      "metadata": {
        "id": "IthU9r63hXM7"
      },
      "source": [
        "import tensorflow as tf\n",
        "import matplotlib.pyplot as plt\n",
        "import numpy as np"
      ],
      "execution_count": 28,
      "outputs": []
    },
    {
      "cell_type": "code",
      "metadata": {
        "id": "CHWXk50WdMKI"
      },
      "source": [
        "mnist = tf.keras.datasets.mnist\n",
        "\n",
        "(x_train, y_train), (x_test, y_test) = mnist.load_data()"
      ],
      "execution_count": 2,
      "outputs": []
    },
    {
      "cell_type": "code",
      "metadata": {
        "colab": {
          "base_uri": "https://localhost:8080/",
          "height": 282
        },
        "id": "G4kFB754hoBc",
        "outputId": "a7349fff-f480-46a0-b0d2-ee87ee95b4bf"
      },
      "source": [
        "plt.imshow(x_train[8], cmap=plt.cm.binary)"
      ],
      "execution_count": 3,
      "outputs": [
        {
          "output_type": "execute_result",
          "data": {
            "text/plain": [
              "<matplotlib.image.AxesImage at 0x7f5341f089d0>"
            ]
          },
          "metadata": {
            "tags": []
          },
          "execution_count": 3
        },
        {
          "output_type": "display_data",
          "data": {
            "image/png": "[encoded data removed]",
            "text/plain": [
              "<Figure size 432x288 with 1 Axes>"
            ]
          },
          "metadata": {
            "tags": [],
            "needs_background": "light"
          }
        }
      ]
    },
    {
      "cell_type": "code",
      "metadata": {
        "colab": {
          "base_uri": "https://localhost:8080/",
          "height": 282
        },
        "id": "EQRQUBHM9jiy",
        "outputId": "fb2d2145-4287-4216-c23f-78f1356d9e15"
      },
      "source": [
        "#Proxima Prediccion\n",
        "plt.imshow(x_test[11], cmap=plt.cm.binary)"
      ],
      "execution_count": 4,
      "outputs": [
        {
          "output_type": "execute_result",
          "data": {
            "text/plain": [
              "<matplotlib.image.AxesImage at 0x7f5342819350>"
            ]
          },
          "metadata": {
            "tags": []
          },
          "execution_count": 4
        },
        {
          "output_type": "display_data",
          "data": {
            "image/png": "[encoded data removed]",
            "text/plain": [
              "<Figure size 432x288 with 1 Axes>"
            ]
          },
          "metadata": {
            "tags": [],
            "needs_background": "light"
          }
        }
      ]
    },
    {
      "cell_type": "code",
      "metadata": {
        "colab": {
          "base_uri": "https://localhost:8080/"
        },
        "id": "yC72fe3fiBjV",
        "outputId": "bbfb9a35-2046-48e9-f602-3b19d5ed973c"
      },
      "source": [
        "#Etiqeta o label correspondiente al dato que se encuentra en el set de entrenamiento\n",
        "print(y_train[8])"
      ],
      "execution_count": 5,
      "outputs": [
        {
          "output_type": "stream",
          "text": [
            "1\n"
          ],
          "name": "stdout"
        }
      ]
    },
    {
      "cell_type": "code",
      "metadata": {
        "colab": {
          "base_uri": "https://localhost:8080/"
        },
        "id": "FnNktZAIiHvE",
        "outputId": "54593668-bdaa-4c36-8c40-7a1b683065f1"
      },
      "source": [
        "#Números de ejes del set de entrenamiento\n",
        "print(x_train.ndim)"
      ],
      "execution_count": 6,
      "outputs": [
        {
          "output_type": "stream",
          "text": [
            "3\n"
          ],
          "name": "stdout"
        }
      ]
    },
    {
      "cell_type": "code",
      "metadata": {
        "colab": {
          "base_uri": "https://localhost:8080/"
        },
        "id": "yr3u_YB2ibOm",
        "outputId": "6ea5ffa2-0a0c-44d7-8602-3487593af9cd"
      },
      "source": [
        "#Forma del set de entrenamiento\n",
        "print(x_train.shape)"
      ],
      "execution_count": 6,
      "outputs": [
        {
          "output_type": "stream",
          "text": [
            "(60000, 28, 28)\n"
          ],
          "name": "stdout"
        }
      ]
    },
    {
      "cell_type": "code",
      "metadata": {
        "colab": {
          "base_uri": "https://localhost:8080/"
        },
        "id": "yU9hm4F3jIaz",
        "outputId": "4fdddf8b-141f-4150-bd5d-288241acaf23"
      },
      "source": [
        "#Que tipos de datos contiene nuestro set de entrenamiento\n",
        "print(x_train.dtype)"
      ],
      "execution_count": 7,
      "outputs": [
        {
          "output_type": "stream",
          "text": [
            "uint8\n"
          ],
          "name": "stdout"
        }
      ]
    },
    {
      "cell_type": "code",
      "metadata": {
        "id": "D7gvhUNxjtTb"
      },
      "source": [
        "#En resumen, x_train es un tensor 3D de entero de 8 bits.\n",
        "#Más concretamente, se trata de un vector de 60000 matrices 2D de 28*28 enteros.\n",
        "#Cada una de esas matrices es una imagen en escala de grises, con coeficientes entre 0 y 255."
      ],
      "execution_count": 8,
      "outputs": []
    },
    {
      "cell_type": "code",
      "metadata": {
        "colab": {
          "base_uri": "https://localhost:8080/"
        },
        "id": "AVMuYUtskJRa",
        "outputId": "faf031f1-3c39-412a-9b60-60c6e1d25e32"
      },
      "source": [
        "my_slice = x_train[1:100:,:]\n",
        "print(my_slice.shape)"
      ],
      "execution_count": 7,
      "outputs": [
        {
          "output_type": "stream",
          "text": [
            "(99, 28, 28)\n"
          ],
          "name": "stdout"
        }
      ]
    },
    {
      "cell_type": "code",
      "metadata": {
        "colab": {
          "base_uri": "https://localhost:8080/"
        },
        "id": "Pwc33RpQr1CZ",
        "outputId": "4beeb335-e6cc-42a9-c4b2-d4e2692bc51e"
      },
      "source": [
        "my_slice = x_train[1:100:,0:28,0:28]\n",
        "print(my_slice.shape)"
      ],
      "execution_count": 8,
      "outputs": [
        {
          "output_type": "stream",
          "text": [
            "(99, 28, 28)\n"
          ],
          "name": "stdout"
        }
      ]
    },
    {
      "cell_type": "code",
      "metadata": {
        "colab": {
          "base_uri": "https://localhost:8080/"
        },
        "id": "XbGtxBdPr_Dy",
        "outputId": "2e015e7d-429c-41ef-a025-2cdc71df7277"
      },
      "source": [
        "my_slice = x_train[:,14:,14:]\n",
        "print(my_slice.shape)"
      ],
      "execution_count": 9,
      "outputs": [
        {
          "output_type": "stream",
          "text": [
            "(60000, 14, 14)\n"
          ],
          "name": "stdout"
        }
      ]
    },
    {
      "cell_type": "code",
      "metadata": {
        "colab": {
          "base_uri": "https://localhost:8080/"
        },
        "id": "IgQbKeogsEzr",
        "outputId": "7a296463-b50b-4d7c-a7e3-5ae70bb28592"
      },
      "source": [
        "my_slice = x_train[:,7:-7,7:-7]\n",
        "print(my_slice.shape)"
      ],
      "execution_count": 10,
      "outputs": [
        {
          "output_type": "stream",
          "text": [
            "(60000, 14, 14)\n"
          ],
          "name": "stdout"
        }
      ]
    },
    {
      "cell_type": "markdown",
      "metadata": {
        "id": "3mA36rVlsTiX"
      },
      "source": [
        "## Preprocesado de Datos"
      ]
    },
    {
      "cell_type": "code",
      "metadata": {
        "id": "m7f8FpMzsTBH"
      },
      "source": [
        "x_train = x_train.astype('float32')\n",
        "x_test = x_test.astype('float32')"
      ],
      "execution_count": 11,
      "outputs": []
    },
    {
      "cell_type": "code",
      "metadata": {
        "id": "ne6TCylEslrY"
      },
      "source": [
        "x_train /= 255\n",
        "x_test /= 255"
      ],
      "execution_count": 12,
      "outputs": []
    },
    {
      "cell_type": "code",
      "metadata": {
        "id": "KiWm7DpYtN1Q"
      },
      "source": [
        "x_train = x_train.reshape(60000, 784)\n",
        "x_test = x_test.reshape(10000, 784)"
      ],
      "execution_count": 13,
      "outputs": []
    },
    {
      "cell_type": "code",
      "metadata": {
        "colab": {
          "base_uri": "https://localhost:8080/"
        },
        "id": "K6DdCPyAtY_U",
        "outputId": "edc3f5bd-ed1a-4e23-9f3a-72a1e4e5bbc6"
      },
      "source": [
        "print(x_train.shape)\n",
        "print(x_test.shape)"
      ],
      "execution_count": 14,
      "outputs": [
        {
          "output_type": "stream",
          "text": [
            "(60000, 784)\n",
            "(10000, 784)\n"
          ],
          "name": "stdout"
        }
      ]
    },
    {
      "cell_type": "markdown",
      "metadata": {
        "id": "kd8skOHYt753"
      },
      "source": [
        "## One Hot"
      ]
    },
    {
      "cell_type": "code",
      "metadata": {
        "id": "DSWWZC63uB0D"
      },
      "source": [
        "from tensorflow.keras.utils import to_categorical"
      ],
      "execution_count": 15,
      "outputs": []
    },
    {
      "cell_type": "code",
      "metadata": {
        "colab": {
          "base_uri": "https://localhost:8080/"
        },
        "id": "5knH0JMcuL0s",
        "outputId": "25133a52-d47d-4784-efb9-2c3bd04c9ab4"
      },
      "source": [
        "#Antes\n",
        "print(y_test[0])"
      ],
      "execution_count": 18,
      "outputs": [
        {
          "output_type": "stream",
          "text": [
            "7\n"
          ],
          "name": "stdout"
        }
      ]
    },
    {
      "cell_type": "code",
      "metadata": {
        "colab": {
          "base_uri": "https://localhost:8080/"
        },
        "id": "JYyOp8-nucRi",
        "outputId": "792dbea5-9173-4e83-9b95-2e9856a07f5f"
      },
      "source": [
        "print(y_train[0])"
      ],
      "execution_count": 19,
      "outputs": [
        {
          "output_type": "stream",
          "text": [
            "5\n"
          ],
          "name": "stdout"
        }
      ]
    },
    {
      "cell_type": "code",
      "metadata": {
        "colab": {
          "base_uri": "https://localhost:8080/"
        },
        "id": "yHU4A7r7ugnz",
        "outputId": "b820d5c6-0376-462f-f6d8-d6391dd5023e"
      },
      "source": [
        "print(y_train.shape)"
      ],
      "execution_count": 20,
      "outputs": [
        {
          "output_type": "stream",
          "text": [
            "(60000,)\n"
          ],
          "name": "stdout"
        }
      ]
    },
    {
      "cell_type": "code",
      "metadata": {
        "colab": {
          "base_uri": "https://localhost:8080/"
        },
        "id": "7cs_Amswuk93",
        "outputId": "7fa3e64d-6761-4517-81a6-f0d7c3b3b328"
      },
      "source": [
        "print(x_test.shape)"
      ],
      "execution_count": 21,
      "outputs": [
        {
          "output_type": "stream",
          "text": [
            "(10000, 784)\n"
          ],
          "name": "stdout"
        }
      ]
    },
    {
      "cell_type": "code",
      "metadata": {
        "id": "Ri3ir0l2uqK2"
      },
      "source": [
        "#Aplicación One-Hot\n",
        "y_train = to_categorical(y_train, num_classes=10)\n",
        "y_test = to_categorical(y_test, num_classes=10)"
      ],
      "execution_count": 16,
      "outputs": []
    },
    {
      "cell_type": "code",
      "metadata": {
        "colab": {
          "base_uri": "https://localhost:8080/"
        },
        "id": "C-lwpBcjvB0P",
        "outputId": "24eaafa4-8c71-49ab-86c4-bc7d81c6f176"
      },
      "source": [
        "print(y_test[0])"
      ],
      "execution_count": 23,
      "outputs": [
        {
          "output_type": "stream",
          "text": [
            "[0. 0. 0. 0. 0. 0. 0. 1. 0. 0.]\n"
          ],
          "name": "stdout"
        }
      ]
    },
    {
      "cell_type": "code",
      "metadata": {
        "colab": {
          "base_uri": "https://localhost:8080/"
        },
        "id": "YJ3nZSlyvGww",
        "outputId": "295aa806-1196-499c-e449-7226514aabad"
      },
      "source": [
        "print(y_train[0])"
      ],
      "execution_count": 24,
      "outputs": [
        {
          "output_type": "stream",
          "text": [
            "[0. 0. 0. 0. 0. 1. 0. 0. 0. 0.]\n"
          ],
          "name": "stdout"
        }
      ]
    },
    {
      "cell_type": "code",
      "metadata": {
        "colab": {
          "base_uri": "https://localhost:8080/"
        },
        "id": "4Ir-1hSmvFpW",
        "outputId": "01fbc675-39d9-498d-c501-cf40cf8b0e84"
      },
      "source": [
        "print(y_train.shape)"
      ],
      "execution_count": 25,
      "outputs": [
        {
          "output_type": "stream",
          "text": [
            "(60000, 10)\n"
          ],
          "name": "stdout"
        }
      ]
    },
    {
      "cell_type": "code",
      "metadata": {
        "colab": {
          "base_uri": "https://localhost:8080/"
        },
        "id": "qIcJ9RO-vLpg",
        "outputId": "af2de087-d160-4295-c3e5-53b26b4b0016"
      },
      "source": [
        "print(y_test.shape)"
      ],
      "execution_count": 26,
      "outputs": [
        {
          "output_type": "stream",
          "text": [
            "(10000, 10)\n"
          ],
          "name": "stdout"
        }
      ]
    },
    {
      "cell_type": "markdown",
      "metadata": {
        "id": "gm9o3RM6waXj"
      },
      "source": [
        "## Definición del Modelo"
      ]
    },
    {
      "cell_type": "code",
      "metadata": {
        "id": "4y6ICW5VxGTT"
      },
      "source": [
        "from keras.models import Sequential\n",
        "from keras.layers import Activation, Dense"
      ],
      "execution_count": 17,
      "outputs": []
    },
    {
      "cell_type": "code",
      "metadata": {
        "id": "yMI4uYmdwYwO"
      },
      "source": [
        "model = Sequential()\n",
        "model.add(Dense(10, activation = 'sigmoid', input_shape = (784,)))\n",
        "model.add(Dense(10, activation = 'softmax'))"
      ],
      "execution_count": 18,
      "outputs": []
    },
    {
      "cell_type": "code",
      "metadata": {
        "colab": {
          "base_uri": "https://localhost:8080/"
        },
        "id": "kawO876Vx0di",
        "outputId": "fddb35f8-eab2-4dc2-f5d8-eefb13f9f9c3"
      },
      "source": [
        "model.summary()"
      ],
      "execution_count": 19,
      "outputs": [
        {
          "output_type": "stream",
          "text": [
            "Model: \"sequential\"\n",
            "_________________________________________________________________\n",
            "Layer (type)                 Output Shape              Param #   \n",
            "=================================================================\n",
            "dense (Dense)                (None, 10)                7850      \n",
            "_________________________________________________________________\n",
            "dense_1 (Dense)              (None, 10)                110       \n",
            "=================================================================\n",
            "Total params: 7,960\n",
            "Trainable params: 7,960\n",
            "Non-trainable params: 0\n",
            "_________________________________________________________________\n"
          ],
          "name": "stdout"
        }
      ]
    },
    {
      "cell_type": "markdown",
      "metadata": {
        "id": "du4qSPqV0kVm"
      },
      "source": [
        "## Configuración del proceso de aprendizaje"
      ]
    },
    {
      "cell_type": "code",
      "metadata": {
        "id": "wyA5ZB2y0jyX"
      },
      "source": [
        "model.compile(loss=\"categorical_crossentropy\",\n",
        "              optimizer = \"sgd\",\n",
        "              metrics = ['accuracy'])"
      ],
      "execution_count": 20,
      "outputs": []
    },
    {
      "cell_type": "markdown",
      "metadata": {
        "id": "SoWkGyT91J_s"
      },
      "source": [
        "## Entrenamiento del modelo"
      ]
    },
    {
      "cell_type": "code",
      "metadata": {
        "colab": {
          "base_uri": "https://localhost:8080/"
        },
        "id": "uIm9u1fr1JfZ",
        "outputId": "a07f51a7-1965-4fd4-dff3-92dd859b31cd"
      },
      "source": [
        "model.fit(x_train, y_train, epochs=5)"
      ],
      "execution_count": 21,
      "outputs": [
        {
          "output_type": "stream",
          "text": [
            "Epoch 1/5\n",
            "1875/1875 [==============================] - 15s 1ms/step - loss: 2.1446 - accuracy: 0.3589\n",
            "Epoch 2/5\n",
            "1875/1875 [==============================] - 2s 1ms/step - loss: 1.4835 - accuracy: 0.7028\n",
            "Epoch 3/5\n",
            "1875/1875 [==============================] - 2s 1ms/step - loss: 1.0524 - accuracy: 0.7898\n",
            "Epoch 4/5\n",
            "1875/1875 [==============================] - 2s 1ms/step - loss: 0.8288 - accuracy: 0.8235\n",
            "Epoch 5/5\n",
            "1875/1875 [==============================] - 2s 1ms/step - loss: 0.6983 - accuracy: 0.8407\n"
          ],
          "name": "stdout"
        },
        {
          "output_type": "execute_result",
          "data": {
            "text/plain": [
              "<keras.callbacks.History at 0x7f533db29510>"
            ]
          },
          "metadata": {
            "tags": []
          },
          "execution_count": 21
        }
      ]
    },
    {
      "cell_type": "markdown",
      "metadata": {
        "id": "7LyVDIPd6_bn"
      },
      "source": [
        "## Evaluación del modelo"
      ]
    },
    {
      "cell_type": "code",
      "metadata": {
        "colab": {
          "base_uri": "https://localhost:8080/"
        },
        "id": "aH7gOKQk6-1n",
        "outputId": "fbd2dc6d-7de6-4146-9ce9-5c1a865ccc1e"
      },
      "source": [
        "test_loss, test_acc = model.evaluate(x_test, y_test)"
      ],
      "execution_count": 22,
      "outputs": [
        {
          "output_type": "stream",
          "text": [
            "313/313 [==============================] - 1s 1ms/step - loss: 0.6168 - accuracy: 0.8599\n"
          ],
          "name": "stdout"
        }
      ]
    },
    {
      "cell_type": "code",
      "metadata": {
        "colab": {
          "base_uri": "https://localhost:8080/"
        },
        "id": "pP8-JCkK7Mum",
        "outputId": "71421f9d-b772-46d8-9bc8-acfabc9820e8"
      },
      "source": [
        "print(\"Precisión del Testing\", round(test_acc *100,3))"
      ],
      "execution_count": 23,
      "outputs": [
        {
          "output_type": "stream",
          "text": [
            "Precisión del Testing 85.99\n"
          ],
          "name": "stdout"
        }
      ]
    },
    {
      "cell_type": "markdown",
      "metadata": {
        "id": "7Zc_HIHP7vXj"
      },
      "source": [
        "## Generación de predicciones"
      ]
    },
    {
      "cell_type": "code",
      "metadata": {
        "id": "8prGk-aD7zQG"
      },
      "source": [
        "predictions = model.predict(x_test)"
      ],
      "execution_count": 24,
      "outputs": []
    },
    {
      "cell_type": "code",
      "metadata": {
        "colab": {
          "base_uri": "https://localhost:8080/"
        },
        "id": "1K1NPoB3-Frf",
        "outputId": "b2d83c78-be59-4590-a59f-8e611524cb0c"
      },
      "source": [
        "np.argmax(predictions[11])"
      ],
      "execution_count": 29,
      "outputs": [
        {
          "output_type": "execute_result",
          "data": {
            "text/plain": [
              "6"
            ]
          },
          "metadata": {
            "tags": []
          },
          "execution_count": 29
        }
      ]
    },
    {
      "cell_type": "code",
      "metadata": {
        "colab": {
          "base_uri": "https://localhost:8080/"
        },
        "id": "ArvCvTZL-Z7C",
        "outputId": "dfa5159e-70fe-404a-f009-9482e1256669"
      },
      "source": [
        "print(predictions[11])"
      ],
      "execution_count": 30,
      "outputs": [
        {
          "output_type": "stream",
          "text": [
            "[0.07836822 0.05497058 0.11215614 0.01644351 0.06962407 0.04092384\n",
            " 0.5455341  0.00505021 0.067072   0.00985727]\n"
          ],
          "name": "stdout"
        }
      ]
    },
    {
      "cell_type": "code",
      "metadata": {
        "colab": {
          "base_uri": "https://localhost:8080/"
        },
        "id": "xlVrHMC6-o70",
        "outputId": "087d1ee3-ee9c-4ccb-c6ff-bbd1719c9fed"
      },
      "source": [
        "np.sum(predictions[11])"
      ],
      "execution_count": 31,
      "outputs": [
        {
          "output_type": "execute_result",
          "data": {
            "text/plain": [
              "0.9999999"
            ]
          },
          "metadata": {
            "tags": []
          },
          "execution_count": 31
        }
      ]
    }
  ]
}