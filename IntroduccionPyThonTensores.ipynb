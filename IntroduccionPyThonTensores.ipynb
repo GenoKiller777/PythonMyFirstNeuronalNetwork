{
  "nbformat": 4,
  "nbformat_minor": 0,
  "metadata": {
    "colab": {
      "name": "IntroduccionPyThonTensores.ipynb",
      "provenance": [],
      "collapsed_sections": [
        "ueH2JRW-c6Gj",
        "Ogw4NlzgGoKu",
        "XR0njChrIwbf",
        "5L4OYpulKCg0",
        "BuxnMXLqQtak",
        "iMJMkEPvUQXm",
        "txBQ4D07Vm_r",
        "TwHRaNpQWAfE",
        "89TvtPO7ftZr",
        "BRuywFtgiIKR",
        "jwfIrhLOkhWu",
        "VhlJP9f0mTNR",
        "OfZWnQgGom4k",
        "dHuiHeCluQHw"
      ]
    },
    "kernelspec": {
      "name": "python3",
      "display_name": "Python 3"
    },
    "language_info": {
      "name": "python"
    }
  },
  "cells": [
    {
      "cell_type": "markdown",
      "metadata": {
        "id": "ueH2JRW-c6Gj"
      },
      "source": [
        "## Inicio Python\n"
      ]
    },
    {
      "cell_type": "code",
      "metadata": {
        "colab": {
          "base_uri": "https://localhost:8080/"
        },
        "id": "jzpVrFPNBedB",
        "outputId": "11d03773-4ad4-4627-bebe-b3b83f376ffd"
      },
      "source": [
        "help()"
      ],
      "execution_count": null,
      "outputs": [
        {
          "output_type": "stream",
          "text": [
            "\n",
            "Welcome to Python 3.7's help utility!\n",
            "\n",
            "If this is your first time using Python, you should definitely check out\n",
            "the tutorial on the Internet at https://docs.python.org/3.7/tutorial/.\n",
            "\n",
            "Enter the name of any module, keyword, or topic to get help on writing\n",
            "Python programs and using Python modules.  To quit this help utility and\n",
            "return to the interpreter, just type \"quit\".\n",
            "\n",
            "To get a list of available modules, keywords, symbols, or topics, type\n",
            "\"modules\", \"keywords\", \"symbols\", or \"topics\".  Each module also comes\n",
            "with a one-line summary of what it does; to list the modules whose name\n",
            "or summary contain a given string such as \"spam\", type \"modules spam\".\n",
            "\n",
            "help> \n",
            "\n",
            "You are now leaving help and returning to the Python interpreter.\n",
            "If you want to ask for help on a particular object directly from the\n",
            "interpreter, you can type \"help(object)\".  Executing \"help('string')\"\n",
            "has the same effect as typing a particular string at the help> prompt.\n"
          ],
          "name": "stdout"
        }
      ]
    },
    {
      "cell_type": "code",
      "metadata": {
        "colab": {
          "base_uri": "https://localhost:8080/"
        },
        "id": "N2ux1_paF9qP",
        "outputId": "293b2dbc-30f5-4e2a-bfb7-baaabc9797d2"
      },
      "source": [
        "dir(str)"
      ],
      "execution_count": null,
      "outputs": [
        {
          "output_type": "execute_result",
          "data": {
            "text/plain": [
              "['__add__',\n",
              " '__class__',\n",
              " '__contains__',\n",
              " '__delattr__',\n",
              " '__dir__',\n",
              " '__doc__',\n",
              " '__eq__',\n",
              " '__format__',\n",
              " '__ge__',\n",
              " '__getattribute__',\n",
              " '__getitem__',\n",
              " '__getnewargs__',\n",
              " '__gt__',\n",
              " '__hash__',\n",
              " '__init__',\n",
              " '__init_subclass__',\n",
              " '__iter__',\n",
              " '__le__',\n",
              " '__len__',\n",
              " '__lt__',\n",
              " '__mod__',\n",
              " '__mul__',\n",
              " '__ne__',\n",
              " '__new__',\n",
              " '__reduce__',\n",
              " '__reduce_ex__',\n",
              " '__repr__',\n",
              " '__rmod__',\n",
              " '__rmul__',\n",
              " '__setattr__',\n",
              " '__sizeof__',\n",
              " '__str__',\n",
              " '__subclasshook__',\n",
              " 'capitalize',\n",
              " 'casefold',\n",
              " 'center',\n",
              " 'count',\n",
              " 'encode',\n",
              " 'endswith',\n",
              " 'expandtabs',\n",
              " 'find',\n",
              " 'format',\n",
              " 'format_map',\n",
              " 'index',\n",
              " 'isalnum',\n",
              " 'isalpha',\n",
              " 'isascii',\n",
              " 'isdecimal',\n",
              " 'isdigit',\n",
              " 'isidentifier',\n",
              " 'islower',\n",
              " 'isnumeric',\n",
              " 'isprintable',\n",
              " 'isspace',\n",
              " 'istitle',\n",
              " 'isupper',\n",
              " 'join',\n",
              " 'ljust',\n",
              " 'lower',\n",
              " 'lstrip',\n",
              " 'maketrans',\n",
              " 'partition',\n",
              " 'replace',\n",
              " 'rfind',\n",
              " 'rindex',\n",
              " 'rjust',\n",
              " 'rpartition',\n",
              " 'rsplit',\n",
              " 'rstrip',\n",
              " 'split',\n",
              " 'splitlines',\n",
              " 'startswith',\n",
              " 'strip',\n",
              " 'swapcase',\n",
              " 'title',\n",
              " 'translate',\n",
              " 'upper',\n",
              " 'zfill']"
            ]
          },
          "metadata": {
            "tags": []
          },
          "execution_count": 2
        }
      ]
    },
    {
      "cell_type": "code",
      "metadata": {
        "colab": {
          "base_uri": "https://localhost:8080/"
        },
        "id": "tFUM18sNGARu",
        "outputId": "2b10e015-bf83-490b-a297-7ac1ef9fa567"
      },
      "source": [
        "from random import randint\n",
        "randomint = randint(1,100)\n",
        "print(randomint)"
      ],
      "execution_count": null,
      "outputs": [
        {
          "output_type": "stream",
          "text": [
            "75\n"
          ],
          "name": "stdout"
        }
      ]
    },
    {
      "cell_type": "code",
      "metadata": {
        "colab": {
          "base_uri": "https://localhost:8080/"
        },
        "id": "JNRAugIpGV34",
        "outputId": "6b622cf7-91e7-4f89-c5cd-9c4b7dad3f5c"
      },
      "source": [
        "import random\n",
        "randomint = random.randint(1,100)\n",
        "print(randomint)"
      ],
      "execution_count": null,
      "outputs": [
        {
          "output_type": "stream",
          "text": [
            "65\n"
          ],
          "name": "stdout"
        }
      ]
    },
    {
      "cell_type": "markdown",
      "metadata": {
        "id": "Ogw4NlzgGoKu"
      },
      "source": [
        "## Variables, operadores y tipos de Datos"
      ]
    },
    {
      "cell_type": "code",
      "metadata": {
        "colab": {
          "base_uri": "https://localhost:8080/"
        },
        "id": "JWZgJqSnGn0n",
        "outputId": "0b1ceeea-a613-422f-9472-be3a83f3810f"
      },
      "source": [
        "x = 100\n",
        "print(x)\n",
        "print(type(x))"
      ],
      "execution_count": null,
      "outputs": [
        {
          "output_type": "stream",
          "text": [
            "100\n",
            "<class 'int'>\n"
          ],
          "name": "stdout"
        }
      ]
    },
    {
      "cell_type": "code",
      "metadata": {
        "colab": {
          "base_uri": "https://localhost:8080/"
        },
        "id": "2FlWebYsG9Y9",
        "outputId": "a1035a16-0329-4964-c635-d2f1f3000756"
      },
      "source": [
        "x = 'Hola Mundo'\n",
        "print(x)\n",
        "print(type(x))"
      ],
      "execution_count": null,
      "outputs": [
        {
          "output_type": "stream",
          "text": [
            "Hola Mundo\n",
            "<class 'str'>\n"
          ],
          "name": "stdout"
        }
      ]
    },
    {
      "cell_type": "code",
      "metadata": {
        "colab": {
          "base_uri": "https://localhost:8080/"
        },
        "id": "ikW8ERvRHKg1",
        "outputId": "d5bad9bf-58e6-4b93-97cd-07d17c5f9c19"
      },
      "source": [
        "x = 10.0\n",
        "print(x)\n",
        "print(type(x))"
      ],
      "execution_count": null,
      "outputs": [
        {
          "output_type": "stream",
          "text": [
            "10.0\n",
            "<class 'float'>\n"
          ],
          "name": "stdout"
        }
      ]
    },
    {
      "cell_type": "code",
      "metadata": {
        "colab": {
          "base_uri": "https://localhost:8080/"
        },
        "id": "GiMa34cUHSb6",
        "outputId": "0056c7ae-c93f-4cee-b22f-c05f0e5aa0b3"
      },
      "source": [
        "x = True\n",
        "print(x)\n",
        "print(type(x))"
      ],
      "execution_count": null,
      "outputs": [
        {
          "output_type": "stream",
          "text": [
            "True\n",
            "<class 'bool'>\n"
          ],
          "name": "stdout"
        }
      ]
    },
    {
      "cell_type": "code",
      "metadata": {
        "colab": {
          "base_uri": "https://localhost:8080/"
        },
        "id": "6vgIGYhWHbtF",
        "outputId": "2e4ae6b4-3b10-4bac-8d3f-4d2b1ba522ad"
      },
      "source": [
        "print(5/2)"
      ],
      "execution_count": null,
      "outputs": [
        {
          "output_type": "stream",
          "text": [
            "2.5\n"
          ],
          "name": "stdout"
        }
      ]
    },
    {
      "cell_type": "code",
      "metadata": {
        "colab": {
          "base_uri": "https://localhost:8080/"
        },
        "id": "bnPiCzDFHggc",
        "outputId": "ce599dd5-a264-4618-fa6f-90a7acc06a39"
      },
      "source": [
        "print(5//2)"
      ],
      "execution_count": null,
      "outputs": [
        {
          "output_type": "stream",
          "text": [
            "2\n"
          ],
          "name": "stdout"
        }
      ]
    },
    {
      "cell_type": "code",
      "metadata": {
        "colab": {
          "base_uri": "https://localhost:8080/"
        },
        "id": "R2Rsvd9hHgXj",
        "outputId": "8f4de0eb-6586-4168-a42f-29a494ca1092"
      },
      "source": [
        "print(5%2)"
      ],
      "execution_count": null,
      "outputs": [
        {
          "output_type": "stream",
          "text": [
            "1\n"
          ],
          "name": "stdout"
        }
      ]
    },
    {
      "cell_type": "code",
      "metadata": {
        "colab": {
          "base_uri": "https://localhost:8080/"
        },
        "id": "RAvj4IHTHgQs",
        "outputId": "01471086-a24b-4792-ebdd-5ce9fd402be5"
      },
      "source": [
        "print(5**2)"
      ],
      "execution_count": null,
      "outputs": [
        {
          "output_type": "stream",
          "text": [
            "25\n"
          ],
          "name": "stdout"
        }
      ]
    },
    {
      "cell_type": "code",
      "metadata": {
        "colab": {
          "base_uri": "https://localhost:8080/"
        },
        "id": "cBtRVS0xHgIG",
        "outputId": "e15b498d-ad11-42dd-b769-f3d38dc3d487"
      },
      "source": [
        "IntegerVar = 10\n",
        "IntegerVar += 10\n",
        "print(IntegerVar)"
      ],
      "execution_count": null,
      "outputs": [
        {
          "output_type": "stream",
          "text": [
            "20\n"
          ],
          "name": "stdout"
        }
      ]
    },
    {
      "cell_type": "code",
      "metadata": {
        "colab": {
          "base_uri": "https://localhost:8080/"
        },
        "id": "WNeL70PUIBt2",
        "outputId": "e528adca-33da-4cfb-c1da-ffbff193451f"
      },
      "source": [
        "StringVar = 'Deep'\n",
        "StringVar += ' Learning'\n",
        "print(StringVar)"
      ],
      "execution_count": null,
      "outputs": [
        {
          "output_type": "stream",
          "text": [
            "Deep Learning\n"
          ],
          "name": "stdout"
        }
      ]
    },
    {
      "cell_type": "code",
      "metadata": {
        "colab": {
          "base_uri": "https://localhost:8080/"
        },
        "id": "htULiilYIOZ3",
        "outputId": "f62c7e75-f3e7-4c96-8016-8ee230a5936e"
      },
      "source": [
        "IntegerVar, StringVar = StringVar, IntegerVar\n",
        "print(IntegerVar)\n",
        "print(StringVar)"
      ],
      "execution_count": null,
      "outputs": [
        {
          "output_type": "stream",
          "text": [
            "Deep Learning\n",
            "20\n"
          ],
          "name": "stdout"
        }
      ]
    },
    {
      "cell_type": "markdown",
      "metadata": {
        "id": "XR0njChrIwbf"
      },
      "source": [
        "## Tipos de estructuras de datos"
      ]
    },
    {
      "cell_type": "code",
      "metadata": {
        "colab": {
          "base_uri": "https://localhost:8080/"
        },
        "id": "g7hCw6mqItzo",
        "outputId": "71f0f21a-8481-4cb5-c959-99569b4fbca5"
      },
      "source": [
        "x = [5, 'Hello', 1.8]\n",
        "print(x)"
      ],
      "execution_count": null,
      "outputs": [
        {
          "output_type": "stream",
          "text": [
            "[5, 'Hello', 1.8]\n"
          ],
          "name": "stdout"
        }
      ]
    },
    {
      "cell_type": "code",
      "metadata": {
        "colab": {
          "base_uri": "https://localhost:8080/"
        },
        "id": "Gx8xerZEIrX9",
        "outputId": "1c05bc74-9bb5-438c-aaa9-20570aaa0e25"
      },
      "source": [
        "len(x)"
      ],
      "execution_count": null,
      "outputs": [
        {
          "output_type": "execute_result",
          "data": {
            "text/plain": [
              "3"
            ]
          },
          "metadata": {
            "tags": []
          },
          "execution_count": 21
        }
      ]
    },
    {
      "cell_type": "code",
      "metadata": {
        "colab": {
          "base_uri": "https://localhost:8080/"
        },
        "id": "Rk9_2C5uJBq9",
        "outputId": "6c8c055b-9e88-449a-daca-17eb012786a1"
      },
      "source": [
        "x.append(100)\n",
        "print(x)"
      ],
      "execution_count": null,
      "outputs": [
        {
          "output_type": "stream",
          "text": [
            "[5, 'Hello', 1.8, 100, 100]\n"
          ],
          "name": "stdout"
        }
      ]
    },
    {
      "cell_type": "code",
      "metadata": {
        "id": "zmNp_D4oJOGg"
      },
      "source": [
        "x.remove(100)\n",
        "print(x)"
      ],
      "execution_count": null,
      "outputs": []
    },
    {
      "cell_type": "code",
      "metadata": {
        "colab": {
          "base_uri": "https://localhost:8080/"
        },
        "id": "SM1DDQ8KJmD-",
        "outputId": "e9a0ee24-bbf9-4ffe-8a89-42856eab3a9e"
      },
      "source": [
        "print(len(x))"
      ],
      "execution_count": null,
      "outputs": [
        {
          "output_type": "stream",
          "text": [
            "4\n"
          ],
          "name": "stdout"
        }
      ]
    },
    {
      "cell_type": "code",
      "metadata": {
        "colab": {
          "base_uri": "https://localhost:8080/"
        },
        "id": "YdtatwK7JtAm",
        "outputId": "74153da5-ead2-4214-ab0e-16019c54deb1"
      },
      "source": [
        "x[1] = 'Deep'\n",
        "print(x)"
      ],
      "execution_count": null,
      "outputs": [
        {
          "output_type": "stream",
          "text": [
            "[5, 'Deep', 1.8, 100]\n"
          ],
          "name": "stdout"
        }
      ]
    },
    {
      "cell_type": "code",
      "metadata": {
        "colab": {
          "base_uri": "https://localhost:8080/"
        },
        "id": "BfAmutmRJ2j1",
        "outputId": "7785eefd-1234-4560-8a54-7267b3965d55"
      },
      "source": [
        "y = [2.1, 'Learning']\n",
        "z = x + y\n",
        "print(z)"
      ],
      "execution_count": null,
      "outputs": [
        {
          "output_type": "stream",
          "text": [
            "[5, 'Deep', 1.8, 100, 2.1, 'Learning']\n"
          ],
          "name": "stdout"
        }
      ]
    },
    {
      "cell_type": "markdown",
      "metadata": {
        "id": "5L4OYpulKCg0"
      },
      "source": [
        "## Indexacioón\n"
      ]
    },
    {
      "cell_type": "markdown",
      "metadata": {
        "id": "N3Yt6NSuOy27"
      },
      "source": [
        "* Lista (mutables o variables)"
      ]
    },
    {
      "cell_type": "code",
      "metadata": {
        "colab": {
          "base_uri": "https://localhost:8080/"
        },
        "id": "Fw6-5uR5KGNg",
        "outputId": "92b5c1bc-9b1f-4de3-c6f4-dda42f5e4de4"
      },
      "source": [
        "x = [5, 'Deep', 1.8]\n",
        "print(\"Primer elemento ----> x[0]: \", x[0])\n",
        "print(\"Segundo elemento ----> x[1]: \", x[1])\n",
        "print(\"Último elemento ----> x[-1]: \", x[-1])\n",
        "print(\"Penúltimo elemento ----> x[-2]: \", x[-2])"
      ],
      "execution_count": null,
      "outputs": [
        {
          "output_type": "stream",
          "text": [
            "Primer elemento ----> x[0]:  5\n",
            "Segundo elemento ----> x[1]:  Deep\n",
            "Último elemento ----> x[-1]:  1.8\n",
            "Penúltimo elemento ----> x[-2]:  Deep\n"
          ],
          "name": "stdout"
        }
      ]
    },
    {
      "cell_type": "code",
      "metadata": {
        "colab": {
          "base_uri": "https://localhost:8080/"
        },
        "id": "NpZCsP_WNkuN",
        "outputId": "33d670da-3580-4f5e-9db5-40587087bddc"
      },
      "source": [
        "print(\"Todos lo índices        ------>           \")\n",
        "print(\"x[:]: \", x[:])\n",
        "print(\"Índice 1 al final de la Lista        ------>           \")\n",
        "print(\"x[1:]: \", x[1:])\n",
        "print(\"Índice 1 al índice 2 (sin incluír el índice)       ------>           \")\n",
        "print(\"x[1:2]: \", x[1:2])\n",
        "print(\"Índice 0 al último índice (sin incluir el último)       ------>           \")\n",
        "print(\"x[:-1]: \", x[:-1])"
      ],
      "execution_count": null,
      "outputs": [
        {
          "output_type": "stream",
          "text": [
            "Todos lo índices        ------>           \n",
            "x[:]:  [5, 'Deep', 1.8]\n",
            "Índice 1 al final de la Lista        ------>           \n",
            "x[1:]:  ['Deep', 1.8]\n",
            "Índice 1 al índice 2 (sin incluír el índice)       ------>           \n",
            "x[1:2]:  ['Deep']\n",
            "Índice 0 al último índice (sin incluir el último)       ------>           \n",
            "x[:-1]:  [5, 'Deep']\n"
          ],
          "name": "stdout"
        }
      ]
    },
    {
      "cell_type": "markdown",
      "metadata": {
        "id": "ydbp0f56O71j"
      },
      "source": [
        "* Tuplas (no se pueden modificar su contenido una vez creadas)\n"
      ]
    },
    {
      "cell_type": "code",
      "metadata": {
        "colab": {
          "base_uri": "https://localhost:8080/"
        },
        "id": "0dkbzdcKO2CM",
        "outputId": "f507630e-36a9-4d84-9a37-218ba4cec42e"
      },
      "source": [
        "x = (1, \"Deep\", 3)\n",
        "print(x)\n",
        "print(x[1])"
      ],
      "execution_count": null,
      "outputs": [
        {
          "output_type": "stream",
          "text": [
            "(1, 'Deep', 3)\n",
            "Deep\n"
          ],
          "name": "stdout"
        }
      ]
    },
    {
      "cell_type": "code",
      "metadata": {
        "colab": {
          "base_uri": "https://localhost:8080/"
        },
        "id": "sNaK0Iu3Pbiy",
        "outputId": "9247ed25-5ad5-4f59-cc43-1fd64101d0b5"
      },
      "source": [
        "x = x + (4, 'Learning')\n",
        "print(x)\n",
        "print(x[-1])"
      ],
      "execution_count": null,
      "outputs": [
        {
          "output_type": "stream",
          "text": [
            "(1, 'Deep', 3, 4, 'Learning')\n",
            "Learning\n"
          ],
          "name": "stdout"
        }
      ]
    },
    {
      "cell_type": "markdown",
      "metadata": {
        "id": "iXRFR4v1P3G6"
      },
      "source": [
        "* Diccionarios"
      ]
    },
    {
      "cell_type": "code",
      "metadata": {
        "colab": {
          "base_uri": "https://localhost:8080/",
          "height": 69
        },
        "id": "jdbJF49_P58e",
        "outputId": "15927e1d-633c-40cc-c9d9-db066ee0fe5b"
      },
      "source": [
        "persona = {'nombre':'Jordi Torres',\n",
        "           'profesion':'Profesor'}\n",
        "\n",
        "print(persona)\n",
        "print(persona['nombre'])\n",
        "persona['profesion']"
      ],
      "execution_count": null,
      "outputs": [
        {
          "output_type": "stream",
          "text": [
            "{'nombre': 'Jordi Torres', 'profesion': 'Profesor'}\n",
            "Jordi Torres\n"
          ],
          "name": "stdout"
        },
        {
          "output_type": "execute_result",
          "data": {
            "application/vnd.google.colaboratory.intrinsic+json": {
              "type": "string"
            },
            "text/plain": [
              "'Profesor'"
            ]
          },
          "metadata": {
            "tags": []
          },
          "execution_count": 50
        }
      ]
    },
    {
      "cell_type": "code",
      "metadata": {
        "colab": {
          "base_uri": "https://localhost:8080/"
        },
        "id": "9eRtF05MQZmU",
        "outputId": "df98f9b9-7bf0-40d6-fb6b-b6c0b334bf20"
      },
      "source": [
        "persona['profesion'] = 'Investigador'\n",
        "print(persona)"
      ],
      "execution_count": null,
      "outputs": [
        {
          "output_type": "stream",
          "text": [
            "{'nombre': 'Jordi Torres', 'profesion': 'Investigador'}\n"
          ],
          "name": "stdout"
        }
      ]
    },
    {
      "cell_type": "code",
      "metadata": {
        "colab": {
          "base_uri": "https://localhost:8080/"
        },
        "id": "Vkh4l6rUQh4R",
        "outputId": "c93cb468-164e-40e0-e2a2-eca4223b35ea"
      },
      "source": [
        "persona['grupo'] = 24\n",
        "print(persona)"
      ],
      "execution_count": null,
      "outputs": [
        {
          "output_type": "stream",
          "text": [
            "{'nombre': 'Jordi Torres', 'profesion': 'Investigador', 'grupo': 24}\n"
          ],
          "name": "stdout"
        }
      ]
    },
    {
      "cell_type": "code",
      "metadata": {
        "colab": {
          "base_uri": "https://localhost:8080/"
        },
        "id": "QLGY4x12QoaE",
        "outputId": "15b2529b-7771-401f-d6bd-16950267e796"
      },
      "source": [
        "print(len(persona))"
      ],
      "execution_count": null,
      "outputs": [
        {
          "output_type": "stream",
          "text": [
            "3\n"
          ],
          "name": "stdout"
        }
      ]
    },
    {
      "cell_type": "markdown",
      "metadata": {
        "id": "BuxnMXLqQtak"
      },
      "source": [
        "## Sentencias de control de flujo"
      ]
    },
    {
      "cell_type": "markdown",
      "metadata": {
        "id": "nfHRqxiRREKi"
      },
      "source": [
        "* If"
      ]
    },
    {
      "cell_type": "code",
      "metadata": {
        "colab": {
          "base_uri": "https://localhost:8080/"
        },
        "id": "OuuTvkIgQ0Gy",
        "outputId": "19d5d5cd-d880-47f4-f274-ac1d9dc8fcf7"
      },
      "source": [
        "x = 6.5\n",
        "if x < 5:\n",
        "  puntuacion = 'baja'\n",
        "elif x <= 7:  #elif = else if\n",
        "  puntuacion = 'media'\n",
        "else:\n",
        "  puntuacion = 'alta'\n",
        "print(puntuacion)"
      ],
      "execution_count": null,
      "outputs": [
        {
          "output_type": "stream",
          "text": [
            "media\n"
          ],
          "name": "stdout"
        }
      ]
    },
    {
      "cell_type": "code",
      "metadata": {
        "colab": {
          "base_uri": "https://localhost:8080/"
        },
        "id": "rzBDQR5NRm5N",
        "outputId": "13527ad0-f6ff-4a77-ad1d-dd238fc67492"
      },
      "source": [
        "x = True\n",
        "if x:\n",
        "  print('Se da la condición')"
      ],
      "execution_count": null,
      "outputs": [
        {
          "output_type": "stream",
          "text": [
            "Se da la condición\n"
          ],
          "name": "stdout"
        }
      ]
    },
    {
      "cell_type": "code",
      "metadata": {
        "colab": {
          "base_uri": "https://localhost:8080/"
        },
        "id": "Kn0vabPtR4G1",
        "outputId": "5fecb499-b56f-42bb-aff2-7e28b3de2d76"
      },
      "source": [
        "a = 20\n",
        "if a >= 22:\n",
        "  print(\"Paris\")\n",
        "elif a <= 21:\n",
        "  print(\"Barcelona\")"
      ],
      "execution_count": null,
      "outputs": [
        {
          "output_type": "stream",
          "text": [
            "Barcelona\n"
          ],
          "name": "stdout"
        }
      ]
    },
    {
      "cell_type": "code",
      "metadata": {
        "colab": {
          "base_uri": "https://localhost:8080/"
        },
        "id": "2VivhHYNSIrx",
        "outputId": "ff4a10a3-49f3-41c7-9780-f675e8d54058"
      },
      "source": [
        "#If comprimido\n",
        "b = 1\n",
        "print(\"Paris\" if b >= 92 else \"Barcelona\")"
      ],
      "execution_count": null,
      "outputs": [
        {
          "output_type": "stream",
          "text": [
            "Barcelona\n"
          ],
          "name": "stdout"
        }
      ]
    },
    {
      "cell_type": "markdown",
      "metadata": {
        "id": "iMJMkEPvUQXm"
      },
      "source": [
        "## Bucle for"
      ]
    },
    {
      "cell_type": "code",
      "metadata": {
        "colab": {
          "base_uri": "https://localhost:8080/"
        },
        "id": "SvCTOFbEUPQO",
        "outputId": "a3825841-b13f-42c7-9c83-ca6a51fda09f"
      },
      "source": [
        "for a in range(1, 4):\n",
        "  print(a)"
      ],
      "execution_count": null,
      "outputs": [
        {
          "output_type": "stream",
          "text": [
            "1\n",
            "2\n",
            "3\n"
          ],
          "name": "stdout"
        }
      ]
    },
    {
      "cell_type": "code",
      "metadata": {
        "colab": {
          "base_uri": "https://localhost:8080/"
        },
        "id": "EJ0gpthlUd6u",
        "outputId": "28c7a6a7-0f41-4301-bed2-ddc4724653f3"
      },
      "source": [
        "universidades = [\"UPC\", \"UPM\", \"UPV\"]\n",
        "for universidad in universidades:\n",
        "  print(universidad)"
      ],
      "execution_count": null,
      "outputs": [
        {
          "output_type": "stream",
          "text": [
            "UPC\n",
            "UPM\n",
            "UPV\n"
          ],
          "name": "stdout"
        }
      ]
    },
    {
      "cell_type": "code",
      "metadata": {
        "colab": {
          "base_uri": "https://localhost:8080/"
        },
        "id": "VGlY93c0U7Eg",
        "outputId": "b5293b55-f2c6-49c2-9551-86a9a88738c0"
      },
      "source": [
        "for universidad in universidades:\n",
        "  if universidad == \"UPM\":\n",
        "    break\n",
        "  print(universidad)"
      ],
      "execution_count": null,
      "outputs": [
        {
          "output_type": "stream",
          "text": [
            "UPC\n"
          ],
          "name": "stdout"
        }
      ]
    },
    {
      "cell_type": "code",
      "metadata": {
        "colab": {
          "base_uri": "https://localhost:8080/"
        },
        "id": "DSAMMiJpVMBi",
        "outputId": "8d89285a-1a8a-4183-d79a-6809e5bebcd6"
      },
      "source": [
        "for universidad in universidades:\n",
        "  if universidad == \"UPM\":\n",
        "    continue\n",
        "  print(universidad)"
      ],
      "execution_count": null,
      "outputs": [
        {
          "output_type": "stream",
          "text": [
            "UPC\n",
            "UPV\n"
          ],
          "name": "stdout"
        }
      ]
    },
    {
      "cell_type": "markdown",
      "metadata": {
        "id": "txBQ4D07Vm_r"
      },
      "source": [
        "## Bucle while"
      ]
    },
    {
      "cell_type": "code",
      "metadata": {
        "id": "Gt-S9Pm5Vph-"
      },
      "source": [
        "x = 3\n",
        "while x > 0:\n",
        "  x = x + 1\n",
        "  print(x)"
      ],
      "execution_count": null,
      "outputs": []
    },
    {
      "cell_type": "markdown",
      "metadata": {
        "id": "TwHRaNpQWAfE"
      },
      "source": [
        "## Funciones"
      ]
    },
    {
      "cell_type": "code",
      "metadata": {
        "id": "P2mc5XfcWCqR"
      },
      "source": [
        "def mi_universidad(universidad = \"UPC\"):\n",
        "  y = \"Mi Universidad es la \" + universidad\n",
        "  return(y)"
      ],
      "execution_count": null,
      "outputs": []
    },
    {
      "cell_type": "code",
      "metadata": {
        "colab": {
          "base_uri": "https://localhost:8080/"
        },
        "id": "ySw8un-bY3M3",
        "outputId": "34680ff8-abad-484f-c9e6-0898bce7fede"
      },
      "source": [
        "print(mi_universidad(\"UPM\"))"
      ],
      "execution_count": null,
      "outputs": [
        {
          "output_type": "stream",
          "text": [
            "Mi Universidad es la UPM\n"
          ],
          "name": "stdout"
        }
      ]
    },
    {
      "cell_type": "code",
      "metadata": {
        "colab": {
          "base_uri": "https://localhost:8080/"
        },
        "id": "WsaAEkbAY9YB",
        "outputId": "f964b121-2d30-42da-8186-afd2200b5386"
      },
      "source": [
        "print(mi_universidad(universidad = \"UPV\"))"
      ],
      "execution_count": null,
      "outputs": [
        {
          "output_type": "stream",
          "text": [
            "Mi Universidad es la UPV\n"
          ],
          "name": "stdout"
        }
      ]
    },
    {
      "cell_type": "code",
      "metadata": {
        "colab": {
          "base_uri": "https://localhost:8080/"
        },
        "id": "euUyPDUAZFfQ",
        "outputId": "47e4832c-c9d3-4950-9164-d07d4b216895"
      },
      "source": [
        "print(mi_universidad())"
      ],
      "execution_count": null,
      "outputs": [
        {
          "output_type": "stream",
          "text": [
            "Mi Universidad es la UPC\n"
          ],
          "name": "stdout"
        }
      ]
    },
    {
      "cell_type": "code",
      "metadata": {
        "colab": {
          "base_uri": "https://localhost:8080/"
        },
        "id": "2yKJjDTVelC8",
        "outputId": "1d591acd-b975-4232-f58a-ea9dc008b099"
      },
      "source": [
        "print(mi_universidad)"
      ],
      "execution_count": null,
      "outputs": [
        {
          "output_type": "stream",
          "text": [
            "<function mi_universidad at 0x7f3a6668b3b0>\n"
          ],
          "name": "stdout"
        }
      ]
    },
    {
      "cell_type": "code",
      "metadata": {
        "id": "hrD7U62Kfc8H"
      },
      "source": [
        "def foo():\n",
        "  a, b = 4, 5\n",
        "  return a, b"
      ],
      "execution_count": null,
      "outputs": []
    },
    {
      "cell_type": "code",
      "metadata": {
        "colab": {
          "base_uri": "https://localhost:8080/"
        },
        "id": "eGH5Q_BjflLO",
        "outputId": "b034a9af-f94a-44b5-ce25-e2c0d165d025"
      },
      "source": [
        "foo()"
      ],
      "execution_count": null,
      "outputs": [
        {
          "output_type": "execute_result",
          "data": {
            "text/plain": [
              "(4, 5)"
            ]
          },
          "metadata": {
            "tags": []
          },
          "execution_count": 71
        }
      ]
    },
    {
      "cell_type": "markdown",
      "metadata": {
        "id": "89TvtPO7ftZr"
      },
      "source": [
        "## Funciones lambda"
      ]
    },
    {
      "cell_type": "code",
      "metadata": {
        "id": "D0Lks9KYfyEK"
      },
      "source": [
        "fibonacci = (lambda x:1 if x <= 2 else fibonacci(x - 1) + fibonacci (x-2))"
      ],
      "execution_count": null,
      "outputs": []
    },
    {
      "cell_type": "code",
      "metadata": {
        "colab": {
          "base_uri": "https://localhost:8080/"
        },
        "id": "8D2lWp9ugR9I",
        "outputId": "5e73394b-9780-4acb-b4a7-c5f6b7472797"
      },
      "source": [
        "fibonacci(10)"
      ],
      "execution_count": null,
      "outputs": [
        {
          "output_type": "execute_result",
          "data": {
            "text/plain": [
              "55"
            ]
          },
          "metadata": {
            "tags": []
          },
          "execution_count": 85
        }
      ]
    },
    {
      "cell_type": "code",
      "metadata": {
        "colab": {
          "base_uri": "https://localhost:8080/"
        },
        "id": "0teo-cMmh6Z3",
        "outputId": "33f78929-645b-436d-c896-5318ee912e83"
      },
      "source": [
        "suma = (lambda x: x + 45)\n",
        "suma(30)"
      ],
      "execution_count": null,
      "outputs": [
        {
          "output_type": "execute_result",
          "data": {
            "text/plain": [
              "75"
            ]
          },
          "metadata": {
            "tags": []
          },
          "execution_count": 87
        }
      ]
    },
    {
      "cell_type": "markdown",
      "metadata": {
        "id": "BRuywFtgiIKR"
      },
      "source": [
        "## Clases"
      ]
    },
    {
      "cell_type": "code",
      "metadata": {
        "id": "1SRKzFAaiK0E"
      },
      "source": [
        "class Calculadora(object):\n",
        "  '''Clase de una calculadora'''\n",
        "  def __init__(self):\n",
        "    \"\"\"Inicíaliza la clase calculadora\"\"\"\n",
        "    self.valor = 0\n",
        "\n",
        "  def suma (self, n):\n",
        "    \"\"\"Suma un número n al valor\"\"\"\n",
        "    self.valor +=n\n",
        "  def getValor(self):\n",
        "    \"\"\"Obtiene el valor \"\"\"\n",
        "    return self.valor"
      ],
      "execution_count": null,
      "outputs": []
    },
    {
      "cell_type": "code",
      "metadata": {
        "id": "xADB6tRKkGDQ"
      },
      "source": [
        "calc = Calculadora()"
      ],
      "execution_count": null,
      "outputs": []
    },
    {
      "cell_type": "code",
      "metadata": {
        "id": "a6_VZJDokKeO"
      },
      "source": [
        "calc.suma(2)"
      ],
      "execution_count": null,
      "outputs": []
    },
    {
      "cell_type": "code",
      "metadata": {
        "colab": {
          "base_uri": "https://localhost:8080/"
        },
        "id": "8iUoELuJkPB1",
        "outputId": "c16e5c47-8cdd-40d6-d652-d63214e4e0c7"
      },
      "source": [
        "print(calc.getValor())"
      ],
      "execution_count": null,
      "outputs": [
        {
          "output_type": "stream",
          "text": [
            "2\n"
          ],
          "name": "stdout"
        }
      ]
    },
    {
      "cell_type": "code",
      "metadata": {
        "id": "jRQ0yPlSkUfE"
      },
      "source": [
        "calc.suma(2)"
      ],
      "execution_count": null,
      "outputs": []
    },
    {
      "cell_type": "code",
      "metadata": {
        "colab": {
          "base_uri": "https://localhost:8080/"
        },
        "id": "Tkc24lQSkZIx",
        "outputId": "5eb986c4-bd35-49b2-e917-a53685dab384"
      },
      "source": [
        "print(calc.getValor())"
      ],
      "execution_count": null,
      "outputs": [
        {
          "output_type": "stream",
          "text": [
            "4\n"
          ],
          "name": "stdout"
        }
      ]
    },
    {
      "cell_type": "markdown",
      "metadata": {
        "id": "jwfIrhLOkhWu"
      },
      "source": [
        "## Iterador"
      ]
    },
    {
      "cell_type": "code",
      "metadata": {
        "colab": {
          "base_uri": "https://localhost:8080/"
        },
        "id": "vNBofa7SkjCK",
        "outputId": "3787c72c-94d5-4668-d028-01fce86daff5"
      },
      "source": [
        "vec = [1, 2, 3]\n",
        "it = iter(vec)\n",
        "\n",
        "next(it)"
      ],
      "execution_count": null,
      "outputs": [
        {
          "output_type": "execute_result",
          "data": {
            "text/plain": [
              "1"
            ]
          },
          "metadata": {
            "tags": []
          },
          "execution_count": 94
        }
      ]
    },
    {
      "cell_type": "code",
      "metadata": {
        "colab": {
          "base_uri": "https://localhost:8080/"
        },
        "id": "pL04MBOlmEtD",
        "outputId": "68778638-2d8c-405c-812e-b712fc566984"
      },
      "source": [
        "next(it)"
      ],
      "execution_count": null,
      "outputs": [
        {
          "output_type": "execute_result",
          "data": {
            "text/plain": [
              "2"
            ]
          },
          "metadata": {
            "tags": []
          },
          "execution_count": 95
        }
      ]
    },
    {
      "cell_type": "code",
      "metadata": {
        "colab": {
          "base_uri": "https://localhost:8080/"
        },
        "id": "dag1mnE2mKBx",
        "outputId": "70bd5c09-f895-4a14-e755-a0e28578d957"
      },
      "source": [
        "next(it)"
      ],
      "execution_count": null,
      "outputs": [
        {
          "output_type": "execute_result",
          "data": {
            "text/plain": [
              "3"
            ]
          },
          "metadata": {
            "tags": []
          },
          "execution_count": 96
        }
      ]
    },
    {
      "cell_type": "code",
      "metadata": {
        "colab": {
          "base_uri": "https://localhost:8080/"
        },
        "id": "kK8OuJCVmJ7A",
        "outputId": "b9819471-603f-46a2-9986-1f28bced6936"
      },
      "source": [
        "type(vec)"
      ],
      "execution_count": null,
      "outputs": [
        {
          "output_type": "execute_result",
          "data": {
            "text/plain": [
              "list"
            ]
          },
          "metadata": {
            "tags": []
          },
          "execution_count": 97
        }
      ]
    },
    {
      "cell_type": "code",
      "metadata": {
        "colab": {
          "base_uri": "https://localhost:8080/"
        },
        "id": "iaSt9B4gmOCp",
        "outputId": "bf223f1c-ef12-4810-82e1-784aa582a138"
      },
      "source": [
        "type(it)"
      ],
      "execution_count": null,
      "outputs": [
        {
          "output_type": "execute_result",
          "data": {
            "text/plain": [
              "list_iterator"
            ]
          },
          "metadata": {
            "tags": []
          },
          "execution_count": 98
        }
      ]
    },
    {
      "cell_type": "markdown",
      "metadata": {
        "id": "VhlJP9f0mTNR"
      },
      "source": [
        "## Decoradores"
      ]
    },
    {
      "cell_type": "code",
      "metadata": {
        "colab": {
          "base_uri": "https://localhost:8080/"
        },
        "id": "-Zt37e3YmVRV",
        "outputId": "99e57432-5b2d-4c7b-e552-c248da6735e6"
      },
      "source": [
        "def voy_a_imprimir_Hola():\n",
        "  print(\"Hola\")\n",
        "\n",
        "\n",
        "voy_a_imprimir_Hola()"
      ],
      "execution_count": null,
      "outputs": [
        {
          "output_type": "stream",
          "text": [
            "Hola\n"
          ],
          "name": "stdout"
        }
      ]
    },
    {
      "cell_type": "code",
      "metadata": {
        "id": "1JTXdPSWmpU6"
      },
      "source": [
        "def voy_a_imprimir_Hola():\n",
        "  print(\"Hola\")\n",
        "\n",
        "def my_decorator(func):\n",
        "  def wrapper():\n",
        "    print(\"[Aviso: voy a decir algo]\")\n",
        "    func()\n",
        "    print(\"[Aviso: ya he dicho algo]\")\n",
        "  return wrapper \n",
        "\n",
        "voy_a_imprimir_Hola = my_decorator(voy_a_imprimir_Hola)"
      ],
      "execution_count": null,
      "outputs": []
    },
    {
      "cell_type": "code",
      "metadata": {
        "colab": {
          "base_uri": "https://localhost:8080/"
        },
        "id": "n9wC7fU8n3_O",
        "outputId": "a3804400-7f6b-4d69-d539-209c2bfe315f"
      },
      "source": [
        "voy_a_imprimir_Hola()"
      ],
      "execution_count": null,
      "outputs": [
        {
          "output_type": "stream",
          "text": [
            "[Aviso: voy a decir algo]\n",
            "Hola\n",
            "[Aviso: ya he dicho algo]\n"
          ],
          "name": "stdout"
        }
      ]
    },
    {
      "cell_type": "code",
      "metadata": {
        "id": "Cz26t64_oAxX"
      },
      "source": [
        "voy_a_imprimir_Hola = my_decorator(voy_a_imprimir_Hola)"
      ],
      "execution_count": null,
      "outputs": []
    },
    {
      "cell_type": "code",
      "metadata": {
        "id": "O0y9CqAXoHwI"
      },
      "source": [
        "@my_decorator\n",
        "def voy_a_imprimir_Hola():\n",
        "  print(\"Hola\")"
      ],
      "execution_count": null,
      "outputs": []
    },
    {
      "cell_type": "code",
      "metadata": {
        "colab": {
          "base_uri": "https://localhost:8080/"
        },
        "id": "7y_Tn9Z1oQyn",
        "outputId": "e970f24b-b4ba-40ab-e33f-726f61ad947b"
      },
      "source": [
        "voy_a_imprimir_Hola()"
      ],
      "execution_count": null,
      "outputs": [
        {
          "output_type": "stream",
          "text": [
            "[Aviso: voy a decir algo]\n",
            "Hola\n",
            "[Aviso: ya he dicho algo]\n"
          ],
          "name": "stdout"
        }
      ]
    },
    {
      "cell_type": "markdown",
      "metadata": {
        "id": "OfZWnQgGom4k"
      },
      "source": [
        "## Libreria NumPY y Tensores."
      ]
    },
    {
      "cell_type": "code",
      "metadata": {
        "id": "39GazELZolGJ"
      },
      "source": [
        "# array multidemsional llamada tensor --> estructura de datos\n",
        "# Número de ejes.\n",
        "# Forma.\n",
        "# Tipos de Datos."
      ],
      "execution_count": null,
      "outputs": []
    },
    {
      "cell_type": "markdown",
      "metadata": {
        "id": "2P-c320sp5ED"
      },
      "source": [
        "* Escalar o Tensor 0D"
      ]
    },
    {
      "cell_type": "code",
      "metadata": {
        "colab": {
          "base_uri": "https://localhost:8080/"
        },
        "id": "pLIr7OBvp4MK",
        "outputId": "82f31f0c-e9c7-4ff1-9c81-bc272c3b79a5"
      },
      "source": [
        "import numpy as np\n",
        "\n",
        "x = np.array(8)\n",
        "print(\"x: \", x)\n",
        "print(\"x ndim: \", x.ndim)\n",
        "print(\"x shape:\", x.shape)\n",
        "print(\"x size: \", x.size)\n",
        "print(\"x dtype: \", x.dtype)"
      ],
      "execution_count": null,
      "outputs": [
        {
          "output_type": "stream",
          "text": [
            "x:  8\n",
            "x ndim:  0\n",
            "x shape: ()\n",
            "x size:  1\n",
            "x dtype:  int64\n"
          ],
          "name": "stdout"
        }
      ]
    },
    {
      "cell_type": "markdown",
      "metadata": {
        "id": "5skIjzKXqrqJ"
      },
      "source": [
        "* Vector o Tensor 1D"
      ]
    },
    {
      "cell_type": "code",
      "metadata": {
        "colab": {
          "base_uri": "https://localhost:8080/"
        },
        "id": "B1uE5STdqrqJ",
        "outputId": "01fa31e8-16de-4087-ce3e-6000dc67d74b"
      },
      "source": [
        "x = np.array([2.3, 4.2, 3.3, 1.8])\n",
        "print(\"x: \", x)\n",
        "print(\"x ndim: \", x.ndim)\n",
        "print(\"x shape:\", x.shape)\n",
        "print(\"x size: \", x.size)\n",
        "print(\"x dtype: \", x.dtype)  #observe el tipo de datos flotante"
      ],
      "execution_count": null,
      "outputs": [
        {
          "output_type": "stream",
          "text": [
            "x:  [2.3 4.2 3.3 1.8]\n",
            "x ndim:  1\n",
            "x shape: (4,)\n",
            "x size:  4\n",
            "x dtype:  float64\n"
          ],
          "name": "stdout"
        }
      ]
    },
    {
      "cell_type": "markdown",
      "metadata": {
        "id": "YFVf2GZ_rPdR"
      },
      "source": [
        "* Matrix o tensor de 2D"
      ]
    },
    {
      "cell_type": "code",
      "metadata": {
        "colab": {
          "base_uri": "https://localhost:8080/"
        },
        "id": "iPyM64y3rPdS",
        "outputId": "64fc6ef0-9a00-4258-f481-b78fe5044c10"
      },
      "source": [
        "x = np.array([[1, 2, 3],[4, 5, 6],[7, 8, 9]])\n",
        "print(\"x: \", x)\n",
        "print(\"x ndim: \", x.ndim)\n",
        "print(\"x shape:\", x.shape)\n",
        "print(\"x size: \", x.size)\n",
        "print(\"x dtype: \", x.dtype)  "
      ],
      "execution_count": null,
      "outputs": [
        {
          "output_type": "stream",
          "text": [
            "x:  [[1 2 3]\n",
            " [4 5 6]\n",
            " [7 8 9]]\n",
            "x ndim:  2\n",
            "x shape: (3, 3)\n",
            "x size:  9\n",
            "x dtype:  int64\n"
          ],
          "name": "stdout"
        }
      ]
    },
    {
      "cell_type": "markdown",
      "metadata": {
        "id": "Hf6P4yaqrxsY"
      },
      "source": [
        "* Para un Tensor 3D"
      ]
    },
    {
      "cell_type": "code",
      "metadata": {
        "colab": {
          "base_uri": "https://localhost:8080/"
        },
        "id": "Gq9coQydr3AT",
        "outputId": "337cc991-5360-4a35-c412-0f8d56254b1d"
      },
      "source": [
        "x = np.array([[[1,2],[3,4]],[[5,6],[7,8]]])\n",
        "print(\"x: \", x)\n",
        "print(\"x ndim: \", x.ndim)\n",
        "print(\"x shape:\", x.shape)\n",
        "print(\"x size: \", x.size)\n",
        "print(\"x dtype: \", x.dtype)  "
      ],
      "execution_count": null,
      "outputs": [
        {
          "output_type": "stream",
          "text": [
            "x:  [[[1 2]\n",
            "  [3 4]]\n",
            "\n",
            " [[5 6]\n",
            "  [7 8]]]\n",
            "x ndim:  3\n",
            "x shape: (2, 2, 2)\n",
            "x size:  8\n",
            "x dtype:  int64\n"
          ],
          "name": "stdout"
        }
      ]
    },
    {
      "cell_type": "markdown",
      "metadata": {
        "id": "UX_O9rIPsaiD"
      },
      "source": [
        "* Funciones NumPy"
      ]
    },
    {
      "cell_type": "code",
      "metadata": {
        "colab": {
          "base_uri": "https://localhost:8080/"
        },
        "id": "IazUj4Sysi_v",
        "outputId": "2f19f31a-aa88-41da-ac55-13f92dc7b784"
      },
      "source": [
        "print(\"np.zeros((3,3): \\n\", np.zeros((3,3)))"
      ],
      "execution_count": null,
      "outputs": [
        {
          "output_type": "stream",
          "text": [
            "np.zeros((3,3): \n",
            " [[0. 0. 0.]\n",
            " [0. 0. 0.]\n",
            " [0. 0. 0.]]\n"
          ],
          "name": "stdout"
        }
      ]
    },
    {
      "cell_type": "code",
      "metadata": {
        "colab": {
          "base_uri": "https://localhost:8080/"
        },
        "id": "l9JAA6cutOW9",
        "outputId": "67eb802e-d6ca-40a3-b934-0024b6d1a380"
      },
      "source": [
        "print(\"np.ones((3,3)): \\n\", np.ones((3,3)))"
      ],
      "execution_count": null,
      "outputs": [
        {
          "output_type": "stream",
          "text": [
            "np.ones((3,3)): \n",
            " [[1. 1. 1.]\n",
            " [1. 1. 1.]\n",
            " [1. 1. 1.]]\n"
          ],
          "name": "stdout"
        }
      ]
    },
    {
      "cell_type": "code",
      "metadata": {
        "colab": {
          "base_uri": "https://localhost:8080/"
        },
        "id": "P4llkJCftbc7",
        "outputId": "705f8844-4efc-4ac8-8822-c7a8e80477b8"
      },
      "source": [
        "print(\"np.eyes((3)): (identify matrix)\\n\", np.eye((3)))"
      ],
      "execution_count": null,
      "outputs": [
        {
          "output_type": "stream",
          "text": [
            "np.eyes((3)): (identify matrix)\n",
            " [[1. 0. 0.]\n",
            " [0. 1. 0.]\n",
            " [0. 0. 1.]]\n"
          ],
          "name": "stdout"
        }
      ]
    },
    {
      "cell_type": "code",
      "metadata": {
        "colab": {
          "base_uri": "https://localhost:8080/"
        },
        "id": "BaBuhkmPt1UE",
        "outputId": "717ad378-66f0-46b9-a28c-09fedaccccbb"
      },
      "source": [
        "print(\"np.random((3,3): \\n\", np.random.random((3,3)))"
      ],
      "execution_count": null,
      "outputs": [
        {
          "output_type": "stream",
          "text": [
            "np.random((3,3): \n",
            " [[0.18075151 0.69253208 0.60897886]\n",
            " [0.09310006 0.69508018 0.74111252]\n",
            " [0.18788873 0.61450727 0.30891434]]\n"
          ],
          "name": "stdout"
        }
      ]
    },
    {
      "cell_type": "markdown",
      "metadata": {
        "id": "dHuiHeCluQHw"
      },
      "source": [
        "## Manipulación de los tensores"
      ]
    },
    {
      "cell_type": "code",
      "metadata": {
        "colab": {
          "base_uri": "https://localhost:8080/"
        },
        "id": "c3ci1ndSuTlV",
        "outputId": "15eb4f5c-690b-4184-ac41-063c4ebbb6bc"
      },
      "source": [
        "x = np.array([[1,2,3,4],[5,6,7,8],[9,10,11,12]])\n",
        "print(x)\n",
        "print(\"x columna 1:\", x[:,1])\n",
        "print(\"x fila 0:\", x[0,:])\n",
        "print(\"x filas 0, 1 y columnas 1,2: \\n\", x[0:2, 1:3])"
      ],
      "execution_count": null,
      "outputs": [
        {
          "output_type": "stream",
          "text": [
            "[[ 1  2  3  4]\n",
            " [ 5  6  7  8]\n",
            " [ 9 10 11 12]]\n",
            "x columna 1: [ 2  6 10]\n",
            "x fila 0: [1 2 3 4]\n",
            "x filas 0, 1 y columnas 1,2: \n",
            " [[2 3]\n",
            " [6 7]]\n"
          ],
          "name": "stdout"
        }
      ]
    },
    {
      "cell_type": "code",
      "metadata": {
        "colab": {
          "base_uri": "https://localhost:8080/"
        },
        "id": "V3Cyh9NOXeIv",
        "outputId": "b195c716-665b-41dd-a9a0-cc081589f013"
      },
      "source": [
        "a = np.array([[1,2,3],[4,5,6]], dtype = np.int32)\n",
        "b = np.array([[7,8],[9,10],[11,12]], dtype = np.int32)\n",
        "c = a.dot(b)\n",
        "print(f\"{a.shape} * {b.shape} = {c.shape}\")\n",
        "print(c)"
      ],
      "execution_count": null,
      "outputs": [
        {
          "output_type": "stream",
          "text": [
            "(2, 3) * (3, 2) = (2, 2)\n",
            "[[ 58  64]\n",
            " [139 154]]\n"
          ],
          "name": "stdout"
        }
      ]
    },
    {
      "cell_type": "code",
      "metadata": {
        "colab": {
          "base_uri": "https://localhost:8080/"
        },
        "id": "TW5V5x54Yhb9",
        "outputId": "ace3103c-eff7-40fd-c7b3-919e37016542"
      },
      "source": [
        "x = np.array([[1,2,3,4,5,6]])\n",
        "print(x)\n",
        "print(\"x.shape: \", x.shape)\n",
        "y = np.reshape(x, (2,3))\n",
        "print(\"y: \\n\",y)\n",
        "print(\"y.shape: \", y.shape)\n",
        "z = np.reshape(x, (2,-1))\n",
        "print(\"z: \\n\", z)\n",
        "print(\"z.shape: \",z.shape)"
      ],
      "execution_count": null,
      "outputs": [
        {
          "output_type": "stream",
          "text": [
            "[[1 2 3 4 5 6]]\n",
            "x.shape:  (1, 6)\n",
            "y: \n",
            " [[1 2 3]\n",
            " [4 5 6]]\n",
            "y.shape:  (2, 3)\n",
            "z: \n",
            " [[1 2 3]\n",
            " [4 5 6]]\n",
            "z.shape:  (2, 3)\n"
          ],
          "name": "stdout"
        }
      ]
    },
    {
      "cell_type": "code",
      "metadata": {
        "colab": {
          "base_uri": "https://localhost:8080/"
        },
        "id": "u_CNB6r9ZkPP",
        "outputId": "27495e81-d52f-4cb3-d7cb-0931d391e21e"
      },
      "source": [
        "x = np.array([[1,2,3],[4,5,6]])\n",
        "print(\"x: \\n\", x)\n",
        "print(\"x.shape: \", x.shape)\n",
        "y = np.expand_dims(x, 1)\n",
        "print(\"y: \\n\", y)\n",
        "print(\"y.shape \", y.shape)"
      ],
      "execution_count": null,
      "outputs": [
        {
          "output_type": "stream",
          "text": [
            "x: \n",
            " [[1 2 3]\n",
            " [4 5 6]]\n",
            "x.shape:  (2, 3)\n",
            "y: \n",
            " [[[1 2 3]]\n",
            "\n",
            " [[4 5 6]]]\n",
            "y.shape  (2, 1, 3)\n"
          ],
          "name": "stdout"
        }
      ]
    },
    {
      "cell_type": "code",
      "metadata": {
        "colab": {
          "base_uri": "https://localhost:8080/"
        },
        "id": "pJQWQHewaY0j",
        "outputId": "68144dc1-ac09-4366-8f2f-0255f666b1d5"
      },
      "source": [
        "x = np.array([[[1, 2,3]],[[4, 5, 6]]])\n",
        "print(\"x: \\n\", x)\n",
        "print(\"x.shape: \", x.shape)\n",
        "y = np.squeeze(x, 1) #estrujar dim 1\n",
        "print(\"y: \\n\", y)\n",
        "print(\"y.shape: \",y.shape)"
      ],
      "execution_count": null,
      "outputs": [
        {
          "output_type": "stream",
          "text": [
            "x: \n",
            " [[[1 2 3]]\n",
            "\n",
            " [[4 5 6]]]\n",
            "x.shape:  (2, 1, 3)\n",
            "y: \n",
            " [[1 2 3]\n",
            " [4 5 6]]\n",
            "y.shape:  (2, 3)\n"
          ],
          "name": "stdout"
        }
      ]
    },
    {
      "cell_type": "code",
      "metadata": {
        "colab": {
          "base_uri": "https://localhost:8080/"
        },
        "id": "tu3aArEebRTL",
        "outputId": "f281dca4-cdee-4de3-ed01-90057bbe5f38"
      },
      "source": [
        "#Valor máximo en un tensor\n",
        "x = np.array([1,2,3,4])\n",
        "print(x)\n",
        "\n",
        "print(np.argmax(x))\n",
        "print(np.max(x))"
      ],
      "execution_count": null,
      "outputs": [
        {
          "output_type": "stream",
          "text": [
            "[1 2 3 4]\n",
            "3\n",
            "4\n"
          ],
          "name": "stdout"
        }
      ]
    },
    {
      "cell_type": "code",
      "metadata": {
        "colab": {
          "base_uri": "https://localhost:8080/"
        },
        "id": "Ccf-zXR6brKe",
        "outputId": "8f2d1a93-d2be-4f92-9fe9-e230b074e724"
      },
      "source": [
        "x = np.array([1,2,4,4])\n",
        "print(x)\n",
        "\n",
        "print(np.argmax(x))\n",
        "print(np.max(x))"
      ],
      "execution_count": null,
      "outputs": [
        {
          "output_type": "stream",
          "text": [
            "[1 2 4 4]\n",
            "2\n",
            "4\n"
          ],
          "name": "stdout"
        }
      ]
    },
    {
      "cell_type": "code",
      "metadata": {
        "colab": {
          "base_uri": "https://localhost:8080/"
        },
        "id": "y1ZRFiJmb5R-",
        "outputId": "df42d7a1-92ab-49e6-e111-7d43302a1e90"
      },
      "source": [
        "x = np.array([[1,2,3,4],[5,6,7,8],[9,10,11,12]])\n",
        "print(x)\n",
        "print(np.argmax(x))\n",
        "print(np.max(x))"
      ],
      "execution_count": null,
      "outputs": [
        {
          "output_type": "stream",
          "text": [
            "[[ 1  2  3  4]\n",
            " [ 5  6  7  8]\n",
            " [ 9 10 11 12]]\n",
            "11\n",
            "12\n"
          ],
          "name": "stdout"
        }
      ]
    },
    {
      "cell_type": "code",
      "metadata": {
        "colab": {
          "base_uri": "https://localhost:8080/"
        },
        "id": "LJfeJlJxcO-a",
        "outputId": "f549540f-a71f-4194-95ea-d7135d479c09"
      },
      "source": [
        "print(np.argmax(x, axis = 0))\n",
        "print(np.max(x, axis = 0))\n",
        "\n",
        "print(np.argmax(x, axis = 1))\n",
        "print(np.max(x, axis = 1))"
      ],
      "execution_count": null,
      "outputs": [
        {
          "output_type": "stream",
          "text": [
            "[2 2 2 2]\n",
            "[ 9 10 11 12]\n",
            "[3 3 3]\n",
            "[ 4  8 12]\n"
          ],
          "name": "stdout"
        }
      ]
    }
  ]
}