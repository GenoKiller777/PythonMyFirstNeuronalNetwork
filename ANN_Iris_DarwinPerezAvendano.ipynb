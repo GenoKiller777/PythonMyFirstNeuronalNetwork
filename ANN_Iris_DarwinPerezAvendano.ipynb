{
  "cells": [
    {
      "cell_type": "markdown",
      "metadata": {
        "id": "view-in-github",
        "colab_type": "text"
      },
      "source": [
        "<a href=\"https://colab.research.google.com/github/GenoKiller777/PythonMyFirstNeuronalNetwork/blob/main/ANN_Iris_DarwinPerezAvendano.ipynb\" target=\"_parent\"><img src=\"https://colab.research.google.com/assets/colab-badge.svg\" alt=\"Open In Colab\"/></a>"
      ]
    },
    {
      "cell_type": "markdown",
      "metadata": {
        "id": "_RQRd1vhuBPi"
      },
      "source": [
        "# Clasificación Iris Dataset con ANN\n",
        "\n",
        "En este notebook entrenaremos un red neuronal para establecer un modelo de clasificación de las especies de Iris.\n",
        "\n",
        "---"
      ]
    },
    {
      "cell_type": "code",
      "execution_count": 1,
      "metadata": {
        "id": "_VbV2Dxbr3S8"
      },
      "outputs": [],
      "source": [
        "import numpy as np\n",
        "import pandas as pd\n",
        "import matplotlib.pyplot as plt\n",
        "import seaborn as sns"
      ]
    },
    {
      "cell_type": "markdown",
      "metadata": {
        "id": "cjyW51V5ugI6"
      },
      "source": [
        "#### Importamos el dataset de ejemplo"
      ]
    },
    {
      "cell_type": "code",
      "execution_count": 2,
      "metadata": {
        "id": "pa2IPBO8sCgp"
      },
      "outputs": [],
      "source": [
        "from sklearn.datasets import load_iris"
      ]
    },
    {
      "cell_type": "code",
      "execution_count": 3,
      "metadata": {
        "id": "7YNaVqEPsFQ5"
      },
      "outputs": [],
      "source": [
        "bunch = load_iris()"
      ]
    },
    {
      "cell_type": "code",
      "execution_count": 4,
      "metadata": {
        "id": "tj2a9CmPsGse"
      },
      "outputs": [],
      "source": [
        "df = pd.DataFrame(bunch.data, columns=bunch.feature_names)"
      ]
    },
    {
      "cell_type": "code",
      "execution_count": 39,
      "metadata": {
        "colab": {
          "base_uri": "https://localhost:8080/",
          "height": 143
        },
        "id": "1zmYeLplsISS",
        "outputId": "02dbba11-816a-40aa-8b0e-9cc84f1c03aa"
      },
      "outputs": [
        {
          "output_type": "execute_result",
          "data": {
            "text/plain": [
              "   sepal length (cm)  sepal width (cm)  petal length (cm)  petal width (cm)\n",
              "0                5.1               3.5                1.4               0.2\n",
              "1                4.9               3.0                1.4               0.2\n",
              "2                4.7               3.2                1.3               0.2"
            ],
            "text/html": [
              "\n",
              "\n",
              "  <div id=\"df-83b42dca-27e1-4007-b5fe-2f96a42c10d0\">\n",
              "    <div class=\"colab-df-container\">\n",
              "      <div>\n",
              "<style scoped>\n",
              "    .dataframe tbody tr th:only-of-type {\n",
              "        vertical-align: middle;\n",
              "    }\n",
              "\n",
              "    .dataframe tbody tr th {\n",
              "        vertical-align: top;\n",
              "    }\n",
              "\n",
              "    .dataframe thead th {\n",
              "        text-align: right;\n",
              "    }\n",
              "</style>\n",
              "<table border=\"1\" class=\"dataframe\">\n",
              "  <thead>\n",
              "    <tr style=\"text-align: right;\">\n",
              "      <th></th>\n",
              "      <th>sepal length (cm)</th>\n",
              "      <th>sepal width (cm)</th>\n",
              "      <th>petal length (cm)</th>\n",
              "      <th>petal width (cm)</th>\n",
              "    </tr>\n",
              "  </thead>\n",
              "  <tbody>\n",
              "    <tr>\n",
              "      <th>0</th>\n",
              "      <td>5.1</td>\n",
              "      <td>3.5</td>\n",
              "      <td>1.4</td>\n",
              "      <td>0.2</td>\n",
              "    </tr>\n",
              "    <tr>\n",
              "      <th>1</th>\n",
              "      <td>4.9</td>\n",
              "      <td>3.0</td>\n",
              "      <td>1.4</td>\n",
              "      <td>0.2</td>\n",
              "    </tr>\n",
              "    <tr>\n",
              "      <th>2</th>\n",
              "      <td>4.7</td>\n",
              "      <td>3.2</td>\n",
              "      <td>1.3</td>\n",
              "      <td>0.2</td>\n",
              "    </tr>\n",
              "  </tbody>\n",
              "</table>\n",
              "</div>\n",
              "      <button class=\"colab-df-convert\" onclick=\"convertToInteractive('df-83b42dca-27e1-4007-b5fe-2f96a42c10d0')\"\n",
              "              title=\"Convert this dataframe to an interactive table.\"\n",
              "              style=\"display:none;\">\n",
              "\n",
              "  <svg xmlns=\"http://www.w3.org/2000/svg\" height=\"24px\"viewBox=\"0 0 24 24\"\n",
              "       width=\"24px\">\n",
              "    <path d=\"M0 0h24v24H0V0z\" fill=\"none\"/>\n",
              "    <path d=\"M18.56 5.44l.94 2.06.94-2.06 2.06-.94-2.06-.94-.94-2.06-.94 2.06-2.06.94zm-11 1L8.5 8.5l.94-2.06 2.06-.94-2.06-.94L8.5 2.5l-.94 2.06-2.06.94zm10 10l.94 2.06.94-2.06 2.06-.94-2.06-.94-.94-2.06-.94 2.06-2.06.94z\"/><path d=\"M17.41 7.96l-1.37-1.37c-.4-.4-.92-.59-1.43-.59-.52 0-1.04.2-1.43.59L10.3 9.45l-7.72 7.72c-.78.78-.78 2.05 0 2.83L4 21.41c.39.39.9.59 1.41.59.51 0 1.02-.2 1.41-.59l7.78-7.78 2.81-2.81c.8-.78.8-2.07 0-2.86zM5.41 20L4 18.59l7.72-7.72 1.47 1.35L5.41 20z\"/>\n",
              "  </svg>\n",
              "      </button>\n",
              "\n",
              "\n",
              "\n",
              "    <div id=\"df-55eefe7b-1e93-4a23-88fe-a5ea3330e078\">\n",
              "      <button class=\"colab-df-quickchart\" onclick=\"quickchart('df-55eefe7b-1e93-4a23-88fe-a5ea3330e078')\"\n",
              "              title=\"Suggest charts.\"\n",
              "              style=\"display:none;\">\n",
              "\n",
              "<svg xmlns=\"http://www.w3.org/2000/svg\" height=\"24px\"viewBox=\"0 0 24 24\"\n",
              "     width=\"24px\">\n",
              "    <g>\n",
              "        <path d=\"M19 3H5c-1.1 0-2 .9-2 2v14c0 1.1.9 2 2 2h14c1.1 0 2-.9 2-2V5c0-1.1-.9-2-2-2zM9 17H7v-7h2v7zm4 0h-2V7h2v10zm4 0h-2v-4h2v4z\"/>\n",
              "    </g>\n",
              "</svg>\n",
              "      </button>\n",
              "    </div>\n",
              "\n",
              "<style>\n",
              "  .colab-df-quickchart {\n",
              "    background-color: #E8F0FE;\n",
              "    border: none;\n",
              "    border-radius: 50%;\n",
              "    cursor: pointer;\n",
              "    display: none;\n",
              "    fill: #1967D2;\n",
              "    height: 32px;\n",
              "    padding: 0 0 0 0;\n",
              "    width: 32px;\n",
              "  }\n",
              "\n",
              "  .colab-df-quickchart:hover {\n",
              "    background-color: #E2EBFA;\n",
              "    box-shadow: 0px 1px 2px rgba(60, 64, 67, 0.3), 0px 1px 3px 1px rgba(60, 64, 67, 0.15);\n",
              "    fill: #174EA6;\n",
              "  }\n",
              "\n",
              "  [theme=dark] .colab-df-quickchart {\n",
              "    background-color: #3B4455;\n",
              "    fill: #D2E3FC;\n",
              "  }\n",
              "\n",
              "  [theme=dark] .colab-df-quickchart:hover {\n",
              "    background-color: #434B5C;\n",
              "    box-shadow: 0px 1px 3px 1px rgba(0, 0, 0, 0.15);\n",
              "    filter: drop-shadow(0px 1px 2px rgba(0, 0, 0, 0.3));\n",
              "    fill: #FFFFFF;\n",
              "  }\n",
              "</style>\n",
              "\n",
              "    <script>\n",
              "      async function quickchart(key) {\n",
              "        const containerElement = document.querySelector('#' + key);\n",
              "        const charts = await google.colab.kernel.invokeFunction(\n",
              "            'suggestCharts', [key], {});\n",
              "      }\n",
              "    </script>\n",
              "\n",
              "      <script>\n",
              "\n",
              "function displayQuickchartButton(domScope) {\n",
              "  let quickchartButtonEl =\n",
              "    domScope.querySelector('#df-55eefe7b-1e93-4a23-88fe-a5ea3330e078 button.colab-df-quickchart');\n",
              "  quickchartButtonEl.style.display =\n",
              "    google.colab.kernel.accessAllowed ? 'block' : 'none';\n",
              "}\n",
              "\n",
              "        displayQuickchartButton(document);\n",
              "      </script>\n",
              "      <style>\n",
              "    .colab-df-container {\n",
              "      display:flex;\n",
              "      flex-wrap:wrap;\n",
              "      gap: 12px;\n",
              "    }\n",
              "\n",
              "    .colab-df-convert {\n",
              "      background-color: #E8F0FE;\n",
              "      border: none;\n",
              "      border-radius: 50%;\n",
              "      cursor: pointer;\n",
              "      display: none;\n",
              "      fill: #1967D2;\n",
              "      height: 32px;\n",
              "      padding: 0 0 0 0;\n",
              "      width: 32px;\n",
              "    }\n",
              "\n",
              "    .colab-df-convert:hover {\n",
              "      background-color: #E2EBFA;\n",
              "      box-shadow: 0px 1px 2px rgba(60, 64, 67, 0.3), 0px 1px 3px 1px rgba(60, 64, 67, 0.15);\n",
              "      fill: #174EA6;\n",
              "    }\n",
              "\n",
              "    [theme=dark] .colab-df-convert {\n",
              "      background-color: #3B4455;\n",
              "      fill: #D2E3FC;\n",
              "    }\n",
              "\n",
              "    [theme=dark] .colab-df-convert:hover {\n",
              "      background-color: #434B5C;\n",
              "      box-shadow: 0px 1px 3px 1px rgba(0, 0, 0, 0.15);\n",
              "      filter: drop-shadow(0px 1px 2px rgba(0, 0, 0, 0.3));\n",
              "      fill: #FFFFFF;\n",
              "    }\n",
              "  </style>\n",
              "\n",
              "      <script>\n",
              "        const buttonEl =\n",
              "          document.querySelector('#df-83b42dca-27e1-4007-b5fe-2f96a42c10d0 button.colab-df-convert');\n",
              "        buttonEl.style.display =\n",
              "          google.colab.kernel.accessAllowed ? 'block' : 'none';\n",
              "\n",
              "        async function convertToInteractive(key) {\n",
              "          const element = document.querySelector('#df-83b42dca-27e1-4007-b5fe-2f96a42c10d0');\n",
              "          const dataTable =\n",
              "            await google.colab.kernel.invokeFunction('convertToInteractive',\n",
              "                                                     [key], {});\n",
              "          if (!dataTable) return;\n",
              "\n",
              "          const docLinkHtml = 'Like what you see? Visit the ' +\n",
              "            '<a target=\"_blank\" href=https://colab.research.google.com/notebooks/data_table.ipynb>data table notebook</a>'\n",
              "            + ' to learn more about interactive tables.';\n",
              "          element.innerHTML = '';\n",
              "          dataTable['output_type'] = 'display_data';\n",
              "          await google.colab.output.renderOutput(dataTable, element);\n",
              "          const docLink = document.createElement('div');\n",
              "          docLink.innerHTML = docLinkHtml;\n",
              "          element.appendChild(docLink);\n",
              "        }\n",
              "      </script>\n",
              "    </div>\n",
              "  </div>\n"
            ]
          },
          "metadata": {},
          "execution_count": 39
        }
      ],
      "source": [
        "df.head(3)"
      ]
    },
    {
      "cell_type": "markdown",
      "metadata": {
        "id": "rMFIAuI1t8sJ"
      },
      "source": [
        "#### Formulamos el Modelo\n"
      ]
    },
    {
      "cell_type": "code",
      "execution_count": 6,
      "metadata": {
        "id": "CNpBRMBDsKbR"
      },
      "outputs": [],
      "source": [
        "X = df\n",
        "y = bunch.target"
      ]
    },
    {
      "cell_type": "markdown",
      "metadata": {
        "id": "9-2DtawBumeG"
      },
      "source": [
        "#### Preprocesamiento de los datos"
      ]
    },
    {
      "cell_type": "code",
      "execution_count": 7,
      "metadata": {
        "id": "CAXq2Nk3sNmZ"
      },
      "outputs": [],
      "source": [
        "from sklearn.preprocessing import LabelEncoder"
      ]
    },
    {
      "cell_type": "code",
      "execution_count": 8,
      "metadata": {
        "id": "PhdmWh2nsP6Y"
      },
      "outputs": [],
      "source": [
        "encoder = LabelEncoder()\n",
        "y_enc = encoder.fit_transform(y)\n",
        "y_dum = pd.get_dummies(y_enc).values"
      ]
    },
    {
      "cell_type": "markdown",
      "metadata": {
        "id": "pI-7wDRwutCD"
      },
      "source": [
        "#### Validación cruzada"
      ]
    },
    {
      "cell_type": "code",
      "execution_count": 9,
      "metadata": {
        "id": "anD3oH8_sRsn"
      },
      "outputs": [],
      "source": [
        "from sklearn.model_selection import train_test_split"
      ]
    },
    {
      "cell_type": "code",
      "execution_count": 10,
      "metadata": {
        "id": "_7R8fFXNsT1i"
      },
      "outputs": [],
      "source": [
        "X_train, X_test, y_train, y_test = train_test_split(X,y_dum, test_size=0.2, random_state=101)"
      ]
    },
    {
      "cell_type": "markdown",
      "metadata": {
        "id": "5sJZVTN_uvxJ"
      },
      "source": [
        "#### Importación librerías ANN"
      ]
    },
    {
      "cell_type": "code",
      "execution_count": 11,
      "metadata": {
        "id": "vysoihxqsVOB"
      },
      "outputs": [],
      "source": [
        "from tensorflow.keras import Sequential, Input\n",
        "from tensorflow.keras.layers import Dense"
      ]
    },
    {
      "cell_type": "markdown",
      "metadata": {
        "id": "w5eMAEoVu3cR"
      },
      "source": [
        "#### Diseño arquitectura ANN\n",
        "\n",
        "Cree una red con la siguiente arquitectura:\n",
        "- Input vector (4 nodos) activacion 'tanh'\n",
        "- Hidden Layer 1 (10 nodos) activacion 'tanh'\n",
        "- Hidden Layer 2 (8 nodos) activacion 'tanh'\n",
        "- Hidden Layer 3 (6 nodos) activacion 'softmax'\n",
        "\n",
        "Utilice optimizador Adam con learning rate de 0.02"
      ]
    },
    {
      "cell_type": "code",
      "execution_count": 12,
      "metadata": {
        "id": "ei2hocGbsWuN"
      },
      "outputs": [],
      "source": [
        "model = Sequential()\n",
        "model.add(Input(shape = (4,)))\n",
        "model.add(Dense(10, activation ='tanh'))\n",
        "model.add(Dense(8, activation = 'tanh'))\n",
        "model.add(Dense(6, activation = 'tanh'))\n",
        "model.add(Dense(3, activation = 'softmax'))"
      ]
    },
    {
      "cell_type": "markdown",
      "metadata": {
        "id": "hP2CVU0gvCzE"
      },
      "source": [
        "#### Entrenamiento ANN"
      ]
    },
    {
      "cell_type": "code",
      "execution_count": 14,
      "metadata": {
        "id": "0KZSrCqGsnEK"
      },
      "outputs": [],
      "source": [
        "from tensorflow.keras.optimizers import Adam\n",
        "\n",
        "optimizer = Adam(learning_rate = 0.02)\n",
        "model.compile(loss = 'categorical_crossentropy',\n",
        "              optimizer = optimizer,\n",
        "              metrics = ['accuracy'])"
      ]
    },
    {
      "cell_type": "code",
      "source": [
        "model.summary()"
      ],
      "metadata": {
        "colab": {
          "base_uri": "https://localhost:8080/"
        },
        "id": "dHnSuLbm6fl8",
        "outputId": "5c5191ec-31bb-49b9-ca37-3e4a5569bdc7"
      },
      "execution_count": 15,
      "outputs": [
        {
          "output_type": "stream",
          "name": "stdout",
          "text": [
            "Model: \"sequential\"\n",
            "_________________________________________________________________\n",
            " Layer (type)                Output Shape              Param #   \n",
            "=================================================================\n",
            " dense (Dense)               (None, 10)                50        \n",
            "                                                                 \n",
            " dense_1 (Dense)             (None, 8)                 88        \n",
            "                                                                 \n",
            " dense_2 (Dense)             (None, 6)                 54        \n",
            "                                                                 \n",
            " dense_3 (Dense)             (None, 3)                 21        \n",
            "                                                                 \n",
            "=================================================================\n",
            "Total params: 213\n",
            "Trainable params: 213\n",
            "Non-trainable params: 0\n",
            "_________________________________________________________________\n"
          ]
        }
      ]
    },
    {
      "cell_type": "code",
      "source": [
        "from tensorflow.keras.utils import plot_model"
      ],
      "metadata": {
        "id": "scVXCnzh9Twz"
      },
      "execution_count": 16,
      "outputs": []
    },
    {
      "cell_type": "code",
      "source": [
        "plot_model(model, show_shapes = True, show_layer_activations = True)"
      ],
      "metadata": {
        "colab": {
          "base_uri": "https://localhost:8080/",
          "height": 533
        },
        "id": "kfeJ0mMi9Vkn",
        "outputId": "7dd4db54-df2d-4493-ff71-28785ba1e637"
      },
      "execution_count": 17,
      "outputs": [
        {
          "output_type": "execute_result",
          "data": {
            "image/png": "[encoded data removed]",
            "text/plain": [
              "<IPython.core.display.Image object>"
            ]
          },
          "metadata": {},
          "execution_count": 17
        }
      ]
    },
    {
      "cell_type": "markdown",
      "metadata": {
        "id": "LC6BncwAvXa6"
      },
      "source": [
        "#### Predicciones con el modelo ANN"
      ]
    },
    {
      "cell_type": "code",
      "execution_count": 18,
      "metadata": {
        "colab": {
          "base_uri": "https://localhost:8080/"
        },
        "id": "jmzYJFfns5E8",
        "outputId": "82ae8304-535d-41cd-a163-006410a98d84"
      },
      "outputs": [
        {
          "output_type": "stream",
          "name": "stdout",
          "text": [
            "Epoch 1/50\n",
            "1/1 [==============================] - 2s 2s/step - loss: 1.0725 - accuracy: 0.3500 - val_loss: 0.9865 - val_accuracy: 0.6000\n",
            "Epoch 2/50\n",
            "1/1 [==============================] - 0s 60ms/step - loss: 0.9600 - accuracy: 0.6833 - val_loss: 0.8967 - val_accuracy: 0.9667\n",
            "Epoch 3/50\n",
            "1/1 [==============================] - 0s 61ms/step - loss: 0.8783 - accuracy: 0.9500 - val_loss: 0.8325 - val_accuracy: 0.8667\n",
            "Epoch 4/50\n",
            "1/1 [==============================] - 0s 46ms/step - loss: 0.8075 - accuracy: 0.8417 - val_loss: 0.7814 - val_accuracy: 0.8333\n",
            "Epoch 5/50\n",
            "1/1 [==============================] - 0s 56ms/step - loss: 0.7511 - accuracy: 0.8083 - val_loss: 0.7213 - val_accuracy: 0.8333\n",
            "Epoch 6/50\n",
            "1/1 [==============================] - 0s 52ms/step - loss: 0.6915 - accuracy: 0.7917 - val_loss: 0.6607 - val_accuracy: 0.9000\n",
            "Epoch 7/50\n",
            "1/1 [==============================] - 0s 42ms/step - loss: 0.6349 - accuracy: 0.8417 - val_loss: 0.6019 - val_accuracy: 0.9667\n",
            "Epoch 8/50\n",
            "1/1 [==============================] - 0s 47ms/step - loss: 0.5825 - accuracy: 0.9000 - val_loss: 0.5395 - val_accuracy: 0.9667\n",
            "Epoch 9/50\n",
            "1/1 [==============================] - 0s 67ms/step - loss: 0.5304 - accuracy: 0.9250 - val_loss: 0.4832 - val_accuracy: 0.9667\n",
            "Epoch 10/50\n",
            "1/1 [==============================] - 0s 46ms/step - loss: 0.4841 - accuracy: 0.9083 - val_loss: 0.4403 - val_accuracy: 0.9667\n",
            "Epoch 11/50\n",
            "1/1 [==============================] - 0s 73ms/step - loss: 0.4476 - accuracy: 0.9167 - val_loss: 0.4024 - val_accuracy: 0.9667\n",
            "Epoch 12/50\n",
            "1/1 [==============================] - 0s 69ms/step - loss: 0.4141 - accuracy: 0.9500 - val_loss: 0.3704 - val_accuracy: 1.0000\n",
            "Epoch 13/50\n",
            "1/1 [==============================] - 0s 71ms/step - loss: 0.3837 - accuracy: 0.9667 - val_loss: 0.3434 - val_accuracy: 1.0000\n",
            "Epoch 14/50\n",
            "1/1 [==============================] - 0s 68ms/step - loss: 0.3561 - accuracy: 0.9667 - val_loss: 0.3141 - val_accuracy: 1.0000\n",
            "Epoch 15/50\n",
            "1/1 [==============================] - 0s 71ms/step - loss: 0.3279 - accuracy: 0.9583 - val_loss: 0.2886 - val_accuracy: 1.0000\n",
            "Epoch 16/50\n",
            "1/1 [==============================] - 0s 58ms/step - loss: 0.3036 - accuracy: 0.9583 - val_loss: 0.2673 - val_accuracy: 1.0000\n",
            "Epoch 17/50\n",
            "1/1 [==============================] - 0s 92ms/step - loss: 0.2802 - accuracy: 0.9583 - val_loss: 0.2512 - val_accuracy: 1.0000\n",
            "Epoch 18/50\n",
            "1/1 [==============================] - 0s 84ms/step - loss: 0.2609 - accuracy: 0.9750 - val_loss: 0.2285 - val_accuracy: 1.0000\n",
            "Epoch 19/50\n",
            "1/1 [==============================] - 0s 80ms/step - loss: 0.2417 - accuracy: 0.9583 - val_loss: 0.2098 - val_accuracy: 1.0000\n",
            "Epoch 20/50\n",
            "1/1 [==============================] - 0s 83ms/step - loss: 0.2259 - accuracy: 0.9583 - val_loss: 0.1985 - val_accuracy: 1.0000\n",
            "Epoch 21/50\n",
            "1/1 [==============================] - 0s 72ms/step - loss: 0.2106 - accuracy: 0.9750 - val_loss: 0.1838 - val_accuracy: 1.0000\n",
            "Epoch 22/50\n",
            "1/1 [==============================] - 0s 56ms/step - loss: 0.1965 - accuracy: 0.9750 - val_loss: 0.1648 - val_accuracy: 1.0000\n",
            "Epoch 23/50\n",
            "1/1 [==============================] - 0s 74ms/step - loss: 0.1836 - accuracy: 0.9583 - val_loss: 0.1560 - val_accuracy: 1.0000\n",
            "Epoch 24/50\n",
            "1/1 [==============================] - 0s 81ms/step - loss: 0.1707 - accuracy: 0.9667 - val_loss: 0.1478 - val_accuracy: 1.0000\n",
            "Epoch 25/50\n",
            "1/1 [==============================] - 0s 77ms/step - loss: 0.1596 - accuracy: 0.9750 - val_loss: 0.1286 - val_accuracy: 1.0000\n",
            "Epoch 26/50\n",
            "1/1 [==============================] - 0s 64ms/step - loss: 0.1497 - accuracy: 0.9667 - val_loss: 0.1282 - val_accuracy: 1.0000\n",
            "Epoch 27/50\n",
            "1/1 [==============================] - 0s 76ms/step - loss: 0.1404 - accuracy: 0.9750 - val_loss: 0.1143 - val_accuracy: 1.0000\n",
            "Epoch 28/50\n",
            "1/1 [==============================] - 0s 89ms/step - loss: 0.1319 - accuracy: 0.9667 - val_loss: 0.1065 - val_accuracy: 1.0000\n",
            "Epoch 29/50\n",
            "1/1 [==============================] - 0s 80ms/step - loss: 0.1243 - accuracy: 0.9667 - val_loss: 0.1047 - val_accuracy: 1.0000\n",
            "Epoch 30/50\n",
            "1/1 [==============================] - 0s 79ms/step - loss: 0.1178 - accuracy: 0.9833 - val_loss: 0.0889 - val_accuracy: 1.0000\n",
            "Epoch 31/50\n",
            "1/1 [==============================] - 0s 67ms/step - loss: 0.1125 - accuracy: 0.9667 - val_loss: 0.0985 - val_accuracy: 1.0000\n",
            "Epoch 32/50\n",
            "1/1 [==============================] - 0s 65ms/step - loss: 0.1077 - accuracy: 0.9750 - val_loss: 0.0772 - val_accuracy: 1.0000\n",
            "Epoch 33/50\n",
            "1/1 [==============================] - 0s 70ms/step - loss: 0.1034 - accuracy: 0.9750 - val_loss: 0.0852 - val_accuracy: 1.0000\n",
            "Epoch 34/50\n",
            "1/1 [==============================] - 0s 61ms/step - loss: 0.0981 - accuracy: 0.9833 - val_loss: 0.0757 - val_accuracy: 1.0000\n",
            "Epoch 35/50\n",
            "1/1 [==============================] - 0s 89ms/step - loss: 0.0938 - accuracy: 0.9833 - val_loss: 0.0673 - val_accuracy: 1.0000\n",
            "Epoch 36/50\n",
            "1/1 [==============================] - 0s 70ms/step - loss: 0.0909 - accuracy: 0.9750 - val_loss: 0.0779 - val_accuracy: 1.0000\n",
            "Epoch 37/50\n",
            "1/1 [==============================] - 0s 80ms/step - loss: 0.0886 - accuracy: 0.9833 - val_loss: 0.0577 - val_accuracy: 1.0000\n",
            "Epoch 38/50\n",
            "1/1 [==============================] - 0s 60ms/step - loss: 0.0866 - accuracy: 0.9750 - val_loss: 0.0696 - val_accuracy: 1.0000\n",
            "Epoch 39/50\n",
            "1/1 [==============================] - 0s 75ms/step - loss: 0.0828 - accuracy: 0.9833 - val_loss: 0.0580 - val_accuracy: 1.0000\n",
            "Epoch 40/50\n",
            "1/1 [==============================] - 0s 76ms/step - loss: 0.0797 - accuracy: 0.9833 - val_loss: 0.0537 - val_accuracy: 1.0000\n",
            "Epoch 41/50\n",
            "1/1 [==============================] - 0s 89ms/step - loss: 0.0778 - accuracy: 0.9833 - val_loss: 0.0631 - val_accuracy: 1.0000\n",
            "Epoch 42/50\n",
            "1/1 [==============================] - 0s 80ms/step - loss: 0.0767 - accuracy: 0.9833 - val_loss: 0.0454 - val_accuracy: 1.0000\n",
            "Epoch 43/50\n",
            "1/1 [==============================] - 0s 82ms/step - loss: 0.0758 - accuracy: 0.9750 - val_loss: 0.0590 - val_accuracy: 1.0000\n",
            "Epoch 44/50\n",
            "1/1 [==============================] - 0s 91ms/step - loss: 0.0733 - accuracy: 0.9833 - val_loss: 0.0459 - val_accuracy: 1.0000\n",
            "Epoch 45/50\n",
            "1/1 [==============================] - 0s 72ms/step - loss: 0.0711 - accuracy: 0.9750 - val_loss: 0.0457 - val_accuracy: 1.0000\n",
            "Epoch 46/50\n",
            "1/1 [==============================] - 0s 99ms/step - loss: 0.0696 - accuracy: 0.9750 - val_loss: 0.0520 - val_accuracy: 1.0000\n",
            "Epoch 47/50\n",
            "1/1 [==============================] - 0s 94ms/step - loss: 0.0690 - accuracy: 0.9833 - val_loss: 0.0381 - val_accuracy: 1.0000\n",
            "Epoch 48/50\n",
            "1/1 [==============================] - 0s 82ms/step - loss: 0.0688 - accuracy: 0.9750 - val_loss: 0.0522 - val_accuracy: 1.0000\n",
            "Epoch 49/50\n",
            "1/1 [==============================] - 0s 62ms/step - loss: 0.0675 - accuracy: 0.9833 - val_loss: 0.0377 - val_accuracy: 1.0000\n",
            "Epoch 50/50\n",
            "1/1 [==============================] - 0s 60ms/step - loss: 0.0660 - accuracy: 0.9750 - val_loss: 0.0427 - val_accuracy: 1.0000\n"
          ]
        }
      ],
      "source": [
        "history = model.fit(X_train, y_train, batch_size= 128, epochs=50,\n",
        "                    validation_data = (X_test,y_test))"
      ]
    },
    {
      "cell_type": "markdown",
      "metadata": {
        "id": "Rx_tIr7Xvf43"
      },
      "source": [
        "#### Métricas de Evaluación"
      ]
    },
    {
      "cell_type": "code",
      "execution_count": 19,
      "metadata": {
        "id": "9g3PwfFAS3GY"
      },
      "outputs": [],
      "source": [
        "from sklearn.metrics import accuracy_score"
      ]
    },
    {
      "cell_type": "code",
      "execution_count": 20,
      "metadata": {
        "colab": {
          "base_uri": "https://localhost:8080/"
        },
        "id": "b_UV4qQ8ao74",
        "outputId": "ae7ee4a6-428f-4dcd-ae54-f5e61bcf183d"
      },
      "outputs": [
        {
          "output_type": "stream",
          "name": "stdout",
          "text": [
            "1/1 [==============================] - 0s 168ms/step\n"
          ]
        }
      ],
      "source": [
        "y_pred = model.predict(X_test)"
      ]
    },
    {
      "cell_type": "code",
      "execution_count": 21,
      "metadata": {
        "id": "U1UAxBLVa1M4",
        "colab": {
          "base_uri": "https://localhost:8080/"
        },
        "outputId": "23dfd78d-ec9f-4532-fca4-1f01aa532c67"
      },
      "outputs": [
        {
          "output_type": "execute_result",
          "data": {
            "text/plain": [
              "array([[9.8493093e-01, 1.4863951e-02, 2.0497751e-04],\n",
              "       [9.8465127e-01, 1.5142051e-02, 2.0660492e-04],\n",
              "       [9.8311687e-01, 1.6665213e-02, 2.1789319e-04],\n",
              "       [2.1672749e-03, 2.6583770e-01, 7.3199511e-01],\n",
              "       [9.0564387e-03, 9.8855668e-01, 2.3868913e-03]], dtype=float32)"
            ]
          },
          "metadata": {},
          "execution_count": 21
        }
      ],
      "source": [
        "y_pred[:5]"
      ]
    },
    {
      "cell_type": "code",
      "execution_count": 22,
      "metadata": {
        "colab": {
          "base_uri": "https://localhost:8080/"
        },
        "id": "lhG05iATauBv",
        "outputId": "7841819a-d022-47d2-c4f7-e5745245b2c4"
      },
      "outputs": [
        {
          "output_type": "execute_result",
          "data": {
            "text/plain": [
              "array([[1, 0, 0],\n",
              "       [1, 0, 0],\n",
              "       [1, 0, 0],\n",
              "       [0, 0, 1],\n",
              "       [0, 1, 0]], dtype=uint8)"
            ]
          },
          "metadata": {},
          "execution_count": 22
        }
      ],
      "source": [
        "y_test[:5]"
      ]
    },
    {
      "cell_type": "code",
      "source": [
        "y_pred_clase = np.argmax(y_pred, axis=1)"
      ],
      "metadata": {
        "id": "G9HBJHQQumJU"
      },
      "execution_count": 23,
      "outputs": []
    },
    {
      "cell_type": "code",
      "source": [
        "y_test_clase = np.argmax(y_test, axis=1)"
      ],
      "metadata": {
        "id": "_HxhyqyIu8e1"
      },
      "execution_count": 24,
      "outputs": []
    },
    {
      "cell_type": "markdown",
      "source": [
        "##### Accuracy del modelo"
      ],
      "metadata": {
        "id": "w_IBwxqaLBgB"
      }
    },
    {
      "cell_type": "code",
      "source": [
        "accuracy_score(y_pred_clase,y_test_clase)"
      ],
      "metadata": {
        "colab": {
          "base_uri": "https://localhost:8080/"
        },
        "id": "Vd44DSKJvAaD",
        "outputId": "0af58e0c-105d-4978-a538-26a8d6230683"
      },
      "execution_count": 25,
      "outputs": [
        {
          "output_type": "execute_result",
          "data": {
            "text/plain": [
              "1.0"
            ]
          },
          "metadata": {},
          "execution_count": 25
        }
      ]
    },
    {
      "cell_type": "markdown",
      "source": [
        "##### Matriz de Confusión"
      ],
      "metadata": {
        "id": "RMqarcazJUR1"
      }
    },
    {
      "cell_type": "code",
      "source": [
        "from sklearn.metrics import confusion_matrix\n",
        "\n",
        "confusion_matrix( y_test_clase, y_pred_clase)"
      ],
      "metadata": {
        "colab": {
          "base_uri": "https://localhost:8080/"
        },
        "id": "6OYkcoWkJUoH",
        "outputId": "753b499a-47e7-4f25-ed68-b5c47b83e2a0"
      },
      "execution_count": 34,
      "outputs": [
        {
          "output_type": "execute_result",
          "data": {
            "text/plain": [
              "array([[10,  0,  0],\n",
              "       [ 0, 12,  0],\n",
              "       [ 0,  0,  8]])"
            ]
          },
          "metadata": {},
          "execution_count": 34
        }
      ]
    },
    {
      "cell_type": "code",
      "source": [
        "from sklearn.metrics import ConfusionMatrixDisplay\n",
        "\n",
        "cm = confusion_matrix( y_test_clase, y_pred_clase)\n",
        "disp = ConfusionMatrixDisplay(confusion_matrix=cm)\n",
        "\n",
        "disp.plot()\n",
        "plt.show()"
      ],
      "metadata": {
        "colab": {
          "base_uri": "https://localhost:8080/",
          "height": 455
        },
        "id": "SdlSi0dzKLPV",
        "outputId": "4343a565-b5ad-429b-cfce-2ba1d499aab0"
      },
      "execution_count": 38,
      "outputs": [
        {
          "output_type": "display_data",
          "data": {
            "text/plain": [
              "<Figure size 640x480 with 2 Axes>"
            ],
            "image/png": "[encoded data removed]"
          },
          "metadata": {}
        }
      ]
    },
    {
      "cell_type": "markdown",
      "metadata": {
        "id": "eYMWPEKt4gSo"
      },
      "source": [
        "### Graficar métricas vs epochs (train y test)"
      ]
    },
    {
      "cell_type": "code",
      "execution_count": 40,
      "metadata": {
        "colab": {
          "base_uri": "https://localhost:8080/",
          "height": 607
        },
        "id": "MXRTAJK1jJ-I",
        "outputId": "beb95509-3381-4650-ec39-82265fee3893"
      },
      "outputs": [
        {
          "output_type": "display_data",
          "data": {
            "text/plain": [
              "<Figure size 800x600 with 2 Axes>"
            ],
            "image/png": "[encoded data removed]"
          },
          "metadata": {}
        }
      ],
      "source": [
        "plt.figure(figsize=(8,6))\n",
        "plt.subplot(2,1,1)\n",
        "plt.title('Train Set - Loss')\n",
        "plt.plot(history.history['loss'])\n",
        "plt.subplot(2,1,2)\n",
        "plt.title('Train Set - Accuracy')\n",
        "plt.plot(history.history['accuracy'],color ='orange')\n",
        "\n",
        "plt.tight_layout()\n",
        "plt.show()"
      ]
    },
    {
      "cell_type": "code",
      "execution_count": 41,
      "metadata": {
        "id": "ed7ETtTbk4cW",
        "colab": {
          "base_uri": "https://localhost:8080/",
          "height": 607
        },
        "outputId": "96b2d76d-2820-425b-a03c-9a9cdc7bccea"
      },
      "outputs": [
        {
          "output_type": "display_data",
          "data": {
            "text/plain": [
              "<Figure size 800x600 with 2 Axes>"
            ],
            "image/png": "[encoded data removed]"
          },
          "metadata": {}
        }
      ],
      "source": [
        "plt.figure(figsize=(8,6))\n",
        "plt.subplot(2,1,1)\n",
        "plt.title('Validation Set - Loss')\n",
        "plt.plot(history.history['val_loss'])\n",
        "plt.subplot(2,1,2)\n",
        "plt.title('Validation Set - Accuracy')\n",
        "plt.plot(history.history['val_accuracy'],color ='orange')\n",
        "\n",
        "plt.tight_layout()\n",
        "plt.show()"
      ]
    }
  ],
  "metadata": {
    "colab": {
      "provenance": [],
      "toc_visible": true,
      "include_colab_link": true
    },
    "kernelspec": {
      "display_name": "Python 3",
      "name": "python3"
    }
  },
  "nbformat": 4,
  "nbformat_minor": 0
}