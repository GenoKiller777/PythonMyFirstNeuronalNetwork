{
  "cells": [
    {
      "cell_type": "markdown",
      "metadata": {
        "id": "view-in-github",
        "colab_type": "text"
      },
      "source": [
        "<a href=\"https://colab.research.google.com/github/GenoKiller777/PythonMyFirstNeuronalNetwork/blob/main/ANN_Titanic_DarwinPerez.ipynb\" target=\"_parent\"><img src=\"https://colab.research.google.com/assets/colab-badge.svg\" alt=\"Open In Colab\"/></a>"
      ]
    },
    {
      "cell_type": "code",
      "source": [
        "from google.colab import files\n",
        "\n",
        "uploaded = files.upload()\n",
        "\n",
        "for fn in uploaded.keys():\n",
        "  print('User uploaded file \"{name}\" with length {length} bytes'.format(\n",
        "      name=fn, length=len(uploaded[fn])))"
      ],
      "metadata": {
        "colab": {
          "base_uri": "https://localhost:8080/",
          "height": 91
        },
        "id": "m2T1x-FCmZCz",
        "outputId": "07540840-08eb-4c2a-9e6a-6521c1d060d2"
      },
      "execution_count": 2,
      "outputs": [
        {
          "output_type": "display_data",
          "data": {
            "text/plain": [
              "<IPython.core.display.HTML object>"
            ],
            "text/html": [
              "\n",
              "     <input type=\"file\" id=\"files-027c8571-20c1-4178-8186-a2c4ae7f9892\" name=\"files[]\" multiple disabled\n",
              "        style=\"border:none\" />\n",
              "     <output id=\"result-027c8571-20c1-4178-8186-a2c4ae7f9892\">\n",
              "      Upload widget is only available when the cell has been executed in the\n",
              "      current browser session. Please rerun this cell to enable.\n",
              "      </output>\n",
              "      <script>// Copyright 2017 Google LLC\n",
              "//\n",
              "// Licensed under the Apache License, Version 2.0 (the \"License\");\n",
              "// you may not use this file except in compliance with the License.\n",
              "// You may obtain a copy of the License at\n",
              "//\n",
              "//      http://www.apache.org/licenses/LICENSE-2.0\n",
              "//\n",
              "// Unless required by applicable law or agreed to in writing, software\n",
              "// distributed under the License is distributed on an \"AS IS\" BASIS,\n",
              "// WITHOUT WARRANTIES OR CONDITIONS OF ANY KIND, either express or implied.\n",
              "// See the License for the specific language governing permissions and\n",
              "// limitations under the License.\n",
              "\n",
              "/**\n",
              " * @fileoverview Helpers for google.colab Python module.\n",
              " */\n",
              "(function(scope) {\n",
              "function span(text, styleAttributes = {}) {\n",
              "  const element = document.createElement('span');\n",
              "  element.textContent = text;\n",
              "  for (const key of Object.keys(styleAttributes)) {\n",
              "    element.style[key] = styleAttributes[key];\n",
              "  }\n",
              "  return element;\n",
              "}\n",
              "\n",
              "// Max number of bytes which will be uploaded at a time.\n",
              "const MAX_PAYLOAD_SIZE = 100 * 1024;\n",
              "\n",
              "function _uploadFiles(inputId, outputId) {\n",
              "  const steps = uploadFilesStep(inputId, outputId);\n",
              "  const outputElement = document.getElementById(outputId);\n",
              "  // Cache steps on the outputElement to make it available for the next call\n",
              "  // to uploadFilesContinue from Python.\n",
              "  outputElement.steps = steps;\n",
              "\n",
              "  return _uploadFilesContinue(outputId);\n",
              "}\n",
              "\n",
              "// This is roughly an async generator (not supported in the browser yet),\n",
              "// where there are multiple asynchronous steps and the Python side is going\n",
              "// to poll for completion of each step.\n",
              "// This uses a Promise to block the python side on completion of each step,\n",
              "// then passes the result of the previous step as the input to the next step.\n",
              "function _uploadFilesContinue(outputId) {\n",
              "  const outputElement = document.getElementById(outputId);\n",
              "  const steps = outputElement.steps;\n",
              "\n",
              "  const next = steps.next(outputElement.lastPromiseValue);\n",
              "  return Promise.resolve(next.value.promise).then((value) => {\n",
              "    // Cache the last promise value to make it available to the next\n",
              "    // step of the generator.\n",
              "    outputElement.lastPromiseValue = value;\n",
              "    return next.value.response;\n",
              "  });\n",
              "}\n",
              "\n",
              "/**\n",
              " * Generator function which is called between each async step of the upload\n",
              " * process.\n",
              " * @param {string} inputId Element ID of the input file picker element.\n",
              " * @param {string} outputId Element ID of the output display.\n",
              " * @return {!Iterable<!Object>} Iterable of next steps.\n",
              " */\n",
              "function* uploadFilesStep(inputId, outputId) {\n",
              "  const inputElement = document.getElementById(inputId);\n",
              "  inputElement.disabled = false;\n",
              "\n",
              "  const outputElement = document.getElementById(outputId);\n",
              "  outputElement.innerHTML = '';\n",
              "\n",
              "  const pickedPromise = new Promise((resolve) => {\n",
              "    inputElement.addEventListener('change', (e) => {\n",
              "      resolve(e.target.files);\n",
              "    });\n",
              "  });\n",
              "\n",
              "  const cancel = document.createElement('button');\n",
              "  inputElement.parentElement.appendChild(cancel);\n",
              "  cancel.textContent = 'Cancel upload';\n",
              "  const cancelPromise = new Promise((resolve) => {\n",
              "    cancel.onclick = () => {\n",
              "      resolve(null);\n",
              "    };\n",
              "  });\n",
              "\n",
              "  // Wait for the user to pick the files.\n",
              "  const files = yield {\n",
              "    promise: Promise.race([pickedPromise, cancelPromise]),\n",
              "    response: {\n",
              "      action: 'starting',\n",
              "    }\n",
              "  };\n",
              "\n",
              "  cancel.remove();\n",
              "\n",
              "  // Disable the input element since further picks are not allowed.\n",
              "  inputElement.disabled = true;\n",
              "\n",
              "  if (!files) {\n",
              "    return {\n",
              "      response: {\n",
              "        action: 'complete',\n",
              "      }\n",
              "    };\n",
              "  }\n",
              "\n",
              "  for (const file of files) {\n",
              "    const li = document.createElement('li');\n",
              "    li.append(span(file.name, {fontWeight: 'bold'}));\n",
              "    li.append(span(\n",
              "        `(${file.type || 'n/a'}) - ${file.size} bytes, ` +\n",
              "        `last modified: ${\n",
              "            file.lastModifiedDate ? file.lastModifiedDate.toLocaleDateString() :\n",
              "                                    'n/a'} - `));\n",
              "    const percent = span('0% done');\n",
              "    li.appendChild(percent);\n",
              "\n",
              "    outputElement.appendChild(li);\n",
              "\n",
              "    const fileDataPromise = new Promise((resolve) => {\n",
              "      const reader = new FileReader();\n",
              "      reader.onload = (e) => {\n",
              "        resolve(e.target.result);\n",
              "      };\n",
              "      reader.readAsArrayBuffer(file);\n",
              "    });\n",
              "    // Wait for the data to be ready.\n",
              "    let fileData = yield {\n",
              "      promise: fileDataPromise,\n",
              "      response: {\n",
              "        action: 'continue',\n",
              "      }\n",
              "    };\n",
              "\n",
              "    // Use a chunked sending to avoid message size limits. See b/62115660.\n",
              "    let position = 0;\n",
              "    do {\n",
              "      const length = Math.min(fileData.byteLength - position, MAX_PAYLOAD_SIZE);\n",
              "      const chunk = new Uint8Array(fileData, position, length);\n",
              "      position += length;\n",
              "\n",
              "      const base64 = btoa(String.fromCharCode.apply(null, chunk));\n",
              "      yield {\n",
              "        response: {\n",
              "          action: 'append',\n",
              "          file: file.name,\n",
              "          data: base64,\n",
              "        },\n",
              "      };\n",
              "\n",
              "      let percentDone = fileData.byteLength === 0 ?\n",
              "          100 :\n",
              "          Math.round((position / fileData.byteLength) * 100);\n",
              "      percent.textContent = `${percentDone}% done`;\n",
              "\n",
              "    } while (position < fileData.byteLength);\n",
              "  }\n",
              "\n",
              "  // All done.\n",
              "  yield {\n",
              "    response: {\n",
              "      action: 'complete',\n",
              "    }\n",
              "  };\n",
              "}\n",
              "\n",
              "scope.google = scope.google || {};\n",
              "scope.google.colab = scope.google.colab || {};\n",
              "scope.google.colab._files = {\n",
              "  _uploadFiles,\n",
              "  _uploadFilesContinue,\n",
              "};\n",
              "})(self);\n",
              "</script> "
            ]
          },
          "metadata": {}
        },
        {
          "output_type": "stream",
          "name": "stdout",
          "text": [
            "Saving titanic.csv to titanic.csv\n",
            "User uploaded file \"titanic.csv\" with length 61194 bytes\n"
          ]
        }
      ]
    },
    {
      "cell_type": "markdown",
      "metadata": {
        "id": "C1XDiAPeUxYR"
      },
      "source": [
        "# ANN - Clasificación Titanic"
      ]
    },
    {
      "cell_type": "code",
      "execution_count": 3,
      "metadata": {
        "id": "VKlfd9tcOmZB"
      },
      "outputs": [],
      "source": [
        "import pandas as pd\n",
        "import numpy as np\n",
        "import matplotlib.pyplot as plt\n",
        "%matplotlib inline"
      ]
    },
    {
      "cell_type": "markdown",
      "metadata": {
        "id": "iB8OZj3sU-5J"
      },
      "source": [
        "## Lectura de Datos"
      ]
    },
    {
      "cell_type": "code",
      "execution_count": 4,
      "metadata": {
        "id": "4Xsy1oLDQmdA"
      },
      "outputs": [],
      "source": [
        "df = pd.read_csv('titanic.csv')"
      ]
    },
    {
      "cell_type": "code",
      "execution_count": 5,
      "metadata": {
        "colab": {
          "base_uri": "https://localhost:8080/",
          "height": 112
        },
        "id": "U6TlKeODQmVY",
        "outputId": "347f7281-9072-4777-9f21-dfc0fbb07d37"
      },
      "outputs": [
        {
          "output_type": "execute_result",
          "data": {
            "text/plain": [
              "   PassengerId  Survived  Pclass  \\\n",
              "0            1         0       3   \n",
              "1            2         1       1   \n",
              "\n",
              "                                                Name     Sex   Age  SibSp  \\\n",
              "0                            Braund, Mr. Owen Harris    male  22.0      1   \n",
              "1  Cumings, Mrs. John Bradley (Florence Briggs Th...  female  38.0      1   \n",
              "\n",
              "   Parch     Ticket     Fare Cabin Embarked  \n",
              "0      0  A/5 21171   7.2500   NaN        S  \n",
              "1      0   PC 17599  71.2833   C85        C  "
            ],
            "text/html": [
              "\n",
              "\n",
              "  <div id=\"df-49e64f82-3824-4fc5-b05c-9d4977f6428a\">\n",
              "    <div class=\"colab-df-container\">\n",
              "      <div>\n",
              "<style scoped>\n",
              "    .dataframe tbody tr th:only-of-type {\n",
              "        vertical-align: middle;\n",
              "    }\n",
              "\n",
              "    .dataframe tbody tr th {\n",
              "        vertical-align: top;\n",
              "    }\n",
              "\n",
              "    .dataframe thead th {\n",
              "        text-align: right;\n",
              "    }\n",
              "</style>\n",
              "<table border=\"1\" class=\"dataframe\">\n",
              "  <thead>\n",
              "    <tr style=\"text-align: right;\">\n",
              "      <th></th>\n",
              "      <th>PassengerId</th>\n",
              "      <th>Survived</th>\n",
              "      <th>Pclass</th>\n",
              "      <th>Name</th>\n",
              "      <th>Sex</th>\n",
              "      <th>Age</th>\n",
              "      <th>SibSp</th>\n",
              "      <th>Parch</th>\n",
              "      <th>Ticket</th>\n",
              "      <th>Fare</th>\n",
              "      <th>Cabin</th>\n",
              "      <th>Embarked</th>\n",
              "    </tr>\n",
              "  </thead>\n",
              "  <tbody>\n",
              "    <tr>\n",
              "      <th>0</th>\n",
              "      <td>1</td>\n",
              "      <td>0</td>\n",
              "      <td>3</td>\n",
              "      <td>Braund, Mr. Owen Harris</td>\n",
              "      <td>male</td>\n",
              "      <td>22.0</td>\n",
              "      <td>1</td>\n",
              "      <td>0</td>\n",
              "      <td>A/5 21171</td>\n",
              "      <td>7.2500</td>\n",
              "      <td>NaN</td>\n",
              "      <td>S</td>\n",
              "    </tr>\n",
              "    <tr>\n",
              "      <th>1</th>\n",
              "      <td>2</td>\n",
              "      <td>1</td>\n",
              "      <td>1</td>\n",
              "      <td>Cumings, Mrs. John Bradley (Florence Briggs Th...</td>\n",
              "      <td>female</td>\n",
              "      <td>38.0</td>\n",
              "      <td>1</td>\n",
              "      <td>0</td>\n",
              "      <td>PC 17599</td>\n",
              "      <td>71.2833</td>\n",
              "      <td>C85</td>\n",
              "      <td>C</td>\n",
              "    </tr>\n",
              "  </tbody>\n",
              "</table>\n",
              "</div>\n",
              "      <button class=\"colab-df-convert\" onclick=\"convertToInteractive('df-49e64f82-3824-4fc5-b05c-9d4977f6428a')\"\n",
              "              title=\"Convert this dataframe to an interactive table.\"\n",
              "              style=\"display:none;\">\n",
              "\n",
              "  <svg xmlns=\"http://www.w3.org/2000/svg\" height=\"24px\"viewBox=\"0 0 24 24\"\n",
              "       width=\"24px\">\n",
              "    <path d=\"M0 0h24v24H0V0z\" fill=\"none\"/>\n",
              "    <path d=\"M18.56 5.44l.94 2.06.94-2.06 2.06-.94-2.06-.94-.94-2.06-.94 2.06-2.06.94zm-11 1L8.5 8.5l.94-2.06 2.06-.94-2.06-.94L8.5 2.5l-.94 2.06-2.06.94zm10 10l.94 2.06.94-2.06 2.06-.94-2.06-.94-.94-2.06-.94 2.06-2.06.94z\"/><path d=\"M17.41 7.96l-1.37-1.37c-.4-.4-.92-.59-1.43-.59-.52 0-1.04.2-1.43.59L10.3 9.45l-7.72 7.72c-.78.78-.78 2.05 0 2.83L4 21.41c.39.39.9.59 1.41.59.51 0 1.02-.2 1.41-.59l7.78-7.78 2.81-2.81c.8-.78.8-2.07 0-2.86zM5.41 20L4 18.59l7.72-7.72 1.47 1.35L5.41 20z\"/>\n",
              "  </svg>\n",
              "      </button>\n",
              "\n",
              "\n",
              "\n",
              "    <div id=\"df-57aba2ab-c5e1-42ce-88af-1b23215c4f9d\">\n",
              "      <button class=\"colab-df-quickchart\" onclick=\"quickchart('df-57aba2ab-c5e1-42ce-88af-1b23215c4f9d')\"\n",
              "              title=\"Suggest charts.\"\n",
              "              style=\"display:none;\">\n",
              "\n",
              "<svg xmlns=\"http://www.w3.org/2000/svg\" height=\"24px\"viewBox=\"0 0 24 24\"\n",
              "     width=\"24px\">\n",
              "    <g>\n",
              "        <path d=\"M19 3H5c-1.1 0-2 .9-2 2v14c0 1.1.9 2 2 2h14c1.1 0 2-.9 2-2V5c0-1.1-.9-2-2-2zM9 17H7v-7h2v7zm4 0h-2V7h2v10zm4 0h-2v-4h2v4z\"/>\n",
              "    </g>\n",
              "</svg>\n",
              "      </button>\n",
              "    </div>\n",
              "\n",
              "<style>\n",
              "  .colab-df-quickchart {\n",
              "    background-color: #E8F0FE;\n",
              "    border: none;\n",
              "    border-radius: 50%;\n",
              "    cursor: pointer;\n",
              "    display: none;\n",
              "    fill: #1967D2;\n",
              "    height: 32px;\n",
              "    padding: 0 0 0 0;\n",
              "    width: 32px;\n",
              "  }\n",
              "\n",
              "  .colab-df-quickchart:hover {\n",
              "    background-color: #E2EBFA;\n",
              "    box-shadow: 0px 1px 2px rgba(60, 64, 67, 0.3), 0px 1px 3px 1px rgba(60, 64, 67, 0.15);\n",
              "    fill: #174EA6;\n",
              "  }\n",
              "\n",
              "  [theme=dark] .colab-df-quickchart {\n",
              "    background-color: #3B4455;\n",
              "    fill: #D2E3FC;\n",
              "  }\n",
              "\n",
              "  [theme=dark] .colab-df-quickchart:hover {\n",
              "    background-color: #434B5C;\n",
              "    box-shadow: 0px 1px 3px 1px rgba(0, 0, 0, 0.15);\n",
              "    filter: drop-shadow(0px 1px 2px rgba(0, 0, 0, 0.3));\n",
              "    fill: #FFFFFF;\n",
              "  }\n",
              "</style>\n",
              "\n",
              "    <script>\n",
              "      async function quickchart(key) {\n",
              "        const containerElement = document.querySelector('#' + key);\n",
              "        const charts = await google.colab.kernel.invokeFunction(\n",
              "            'suggestCharts', [key], {});\n",
              "      }\n",
              "    </script>\n",
              "\n",
              "      <script>\n",
              "\n",
              "function displayQuickchartButton(domScope) {\n",
              "  let quickchartButtonEl =\n",
              "    domScope.querySelector('#df-57aba2ab-c5e1-42ce-88af-1b23215c4f9d button.colab-df-quickchart');\n",
              "  quickchartButtonEl.style.display =\n",
              "    google.colab.kernel.accessAllowed ? 'block' : 'none';\n",
              "}\n",
              "\n",
              "        displayQuickchartButton(document);\n",
              "      </script>\n",
              "      <style>\n",
              "    .colab-df-container {\n",
              "      display:flex;\n",
              "      flex-wrap:wrap;\n",
              "      gap: 12px;\n",
              "    }\n",
              "\n",
              "    .colab-df-convert {\n",
              "      background-color: #E8F0FE;\n",
              "      border: none;\n",
              "      border-radius: 50%;\n",
              "      cursor: pointer;\n",
              "      display: none;\n",
              "      fill: #1967D2;\n",
              "      height: 32px;\n",
              "      padding: 0 0 0 0;\n",
              "      width: 32px;\n",
              "    }\n",
              "\n",
              "    .colab-df-convert:hover {\n",
              "      background-color: #E2EBFA;\n",
              "      box-shadow: 0px 1px 2px rgba(60, 64, 67, 0.3), 0px 1px 3px 1px rgba(60, 64, 67, 0.15);\n",
              "      fill: #174EA6;\n",
              "    }\n",
              "\n",
              "    [theme=dark] .colab-df-convert {\n",
              "      background-color: #3B4455;\n",
              "      fill: #D2E3FC;\n",
              "    }\n",
              "\n",
              "    [theme=dark] .colab-df-convert:hover {\n",
              "      background-color: #434B5C;\n",
              "      box-shadow: 0px 1px 3px 1px rgba(0, 0, 0, 0.15);\n",
              "      filter: drop-shadow(0px 1px 2px rgba(0, 0, 0, 0.3));\n",
              "      fill: #FFFFFF;\n",
              "    }\n",
              "  </style>\n",
              "\n",
              "      <script>\n",
              "        const buttonEl =\n",
              "          document.querySelector('#df-49e64f82-3824-4fc5-b05c-9d4977f6428a button.colab-df-convert');\n",
              "        buttonEl.style.display =\n",
              "          google.colab.kernel.accessAllowed ? 'block' : 'none';\n",
              "\n",
              "        async function convertToInteractive(key) {\n",
              "          const element = document.querySelector('#df-49e64f82-3824-4fc5-b05c-9d4977f6428a');\n",
              "          const dataTable =\n",
              "            await google.colab.kernel.invokeFunction('convertToInteractive',\n",
              "                                                     [key], {});\n",
              "          if (!dataTable) return;\n",
              "\n",
              "          const docLinkHtml = 'Like what you see? Visit the ' +\n",
              "            '<a target=\"_blank\" href=https://colab.research.google.com/notebooks/data_table.ipynb>data table notebook</a>'\n",
              "            + ' to learn more about interactive tables.';\n",
              "          element.innerHTML = '';\n",
              "          dataTable['output_type'] = 'display_data';\n",
              "          await google.colab.output.renderOutput(dataTable, element);\n",
              "          const docLink = document.createElement('div');\n",
              "          docLink.innerHTML = docLinkHtml;\n",
              "          element.appendChild(docLink);\n",
              "        }\n",
              "      </script>\n",
              "    </div>\n",
              "  </div>\n"
            ]
          },
          "metadata": {},
          "execution_count": 5
        }
      ],
      "source": [
        "df.head(2)"
      ]
    },
    {
      "cell_type": "markdown",
      "metadata": {
        "id": "A4Os4Awmgvgw"
      },
      "source": [
        "## Limpieza de Datos"
      ]
    },
    {
      "cell_type": "code",
      "execution_count": 6,
      "metadata": {
        "id": "_r9hMV7KgvUe"
      },
      "outputs": [],
      "source": [
        "df[['Age']] = df[['Age']].fillna(value=df[['Age']].mean())\n",
        "df[['Fare']] = df[['Fare']].fillna(value=df[['Fare']].mean())\n",
        "df[['Embarked']] = df[['Embarked']].fillna(value=df['Embarked'].value_counts().idxmax())"
      ]
    },
    {
      "cell_type": "code",
      "execution_count": 7,
      "metadata": {
        "colab": {
          "base_uri": "https://localhost:8080/"
        },
        "id": "Rz7jGMkygvHX",
        "outputId": "914fc9d4-c607-4573-f384-a022ff04cefc"
      },
      "outputs": [
        {
          "output_type": "execute_result",
          "data": {
            "text/plain": [
              "PassengerId      0\n",
              "Survived         0\n",
              "Pclass           0\n",
              "Name             0\n",
              "Sex              0\n",
              "Age              0\n",
              "SibSp            0\n",
              "Parch            0\n",
              "Ticket           0\n",
              "Fare             0\n",
              "Cabin          687\n",
              "Embarked         0\n",
              "dtype: int64"
            ]
          },
          "metadata": {},
          "execution_count": 7
        }
      ],
      "source": [
        "df.isnull().sum()"
      ]
    },
    {
      "cell_type": "markdown",
      "metadata": {
        "id": "zZAuzUauVNP4"
      },
      "source": [
        "## Planteamiento del modelo"
      ]
    },
    {
      "cell_type": "code",
      "execution_count": 8,
      "metadata": {
        "id": "gUb9FEWVQuEI"
      },
      "outputs": [],
      "source": [
        "X = df[['Age','Sex','Fare','Pclass', 'SibSp',\t'Parch']]\n",
        "y = df['Survived']"
      ]
    },
    {
      "cell_type": "code",
      "execution_count": null,
      "metadata": {
        "id": "aBJ2d-EPVTph"
      },
      "outputs": [],
      "source": []
    },
    {
      "cell_type": "markdown",
      "metadata": {
        "id": "T0IsVvGhVQ9r"
      },
      "source": [
        "## Preprocesamiento\n",
        "\n",
        "Haremos lo siguiente:\n",
        "\n",
        "\n",
        "*   Binarización\n",
        "*   Escalamiento\n",
        "*   Hot encoding Y\n",
        "\n"
      ]
    },
    {
      "cell_type": "markdown",
      "metadata": {
        "id": "5cWSkTukVY6T"
      },
      "source": [
        "### Variables Dummy (binarización)"
      ]
    },
    {
      "cell_type": "code",
      "execution_count": 18,
      "metadata": {
        "id": "cZDb0AAqQuBb"
      },
      "outputs": [],
      "source": [
        "X = pd.get_dummies(X, drop_first=True)"
      ]
    },
    {
      "cell_type": "code",
      "execution_count": null,
      "metadata": {
        "id": "EajuAAwfQt-N"
      },
      "outputs": [],
      "source": []
    },
    {
      "cell_type": "code",
      "execution_count": null,
      "metadata": {
        "id": "aYWDRzJsVo6W"
      },
      "outputs": [],
      "source": []
    },
    {
      "cell_type": "markdown",
      "metadata": {
        "id": "Q90tcKCtVv9p"
      },
      "source": [
        "### Escalamiento"
      ]
    },
    {
      "cell_type": "code",
      "execution_count": 23,
      "metadata": {
        "id": "kNSooXTjVvxh"
      },
      "outputs": [],
      "source": [
        "from sklearn.preprocessing import StandardScaler"
      ]
    },
    {
      "cell_type": "code",
      "execution_count": 24,
      "metadata": {
        "id": "2GK6eaGbVvqN"
      },
      "outputs": [],
      "source": [
        "scaler = StandardScaler()\n",
        "X_enc = scaler.fit_transform(X)"
      ]
    },
    {
      "cell_type": "code",
      "execution_count": 25,
      "metadata": {
        "colab": {
          "base_uri": "https://localhost:8080/"
        },
        "id": "CQKZseg8V_zz",
        "outputId": "4a7ccc7a-1f1f-4145-c854-0e6c035cbbe3"
      },
      "outputs": [
        {
          "output_type": "execute_result",
          "data": {
            "text/plain": [
              "array([[-0.5924806 , -0.50244517,  0.82737724,  0.43279337, -0.47367361,\n",
              "         0.73769513],\n",
              "       [ 0.63878901,  0.78684529, -1.56610693,  0.43279337, -0.47367361,\n",
              "        -1.35557354]])"
            ]
          },
          "metadata": {},
          "execution_count": 25
        }
      ],
      "source": [
        "X_enc[:2]"
      ]
    },
    {
      "cell_type": "markdown",
      "metadata": {
        "id": "Ruqs7KagWCEr"
      },
      "source": [
        "### One hot Y"
      ]
    },
    {
      "cell_type": "code",
      "execution_count": 11,
      "metadata": {
        "id": "AFXT5WAoRMki"
      },
      "outputs": [],
      "source": [
        "from sklearn.preprocessing import OneHotEncoder\n",
        "enc = OneHotEncoder()"
      ]
    },
    {
      "cell_type": "code",
      "source": [
        "y_enc = enc.fit_transform(y.values.reshape(-1,1)).toarray()"
      ],
      "metadata": {
        "id": "Yw6pkCMPnOX6"
      },
      "execution_count": 13,
      "outputs": []
    },
    {
      "cell_type": "code",
      "execution_count": 15,
      "metadata": {
        "id": "8jlgXakNTOLO",
        "colab": {
          "base_uri": "https://localhost:8080/"
        },
        "outputId": "81ba9abd-478c-426b-ac1c-55772ef4dcde"
      },
      "outputs": [
        {
          "output_type": "execute_result",
          "data": {
            "text/plain": [
              "array([[1., 0.],\n",
              "       [0., 1.],\n",
              "       [0., 1.],\n",
              "       [0., 1.],\n",
              "       [1., 0.]])"
            ]
          },
          "metadata": {},
          "execution_count": 15
        }
      ],
      "source": [
        "y_enc[:5]"
      ]
    },
    {
      "cell_type": "markdown",
      "metadata": {
        "id": "jtPUW6kiWJn7"
      },
      "source": [
        "### Validacion Cruzada"
      ]
    },
    {
      "cell_type": "code",
      "execution_count": 19,
      "metadata": {
        "id": "le3vh7JARMsN"
      },
      "outputs": [],
      "source": [
        "from sklearn.model_selection import train_test_split"
      ]
    },
    {
      "cell_type": "code",
      "execution_count": 26,
      "metadata": {
        "id": "rrRbv1QJRMoD"
      },
      "outputs": [],
      "source": [
        "X_train, X_test, y_train, y_test = train_test_split(X_enc, y_enc, test_size=0.33, random_state=42)"
      ]
    },
    {
      "cell_type": "markdown",
      "metadata": {
        "id": "2KErXqHwWMd3"
      },
      "source": [
        "### Arquitectura de la red neuronal\n",
        "\n",
        "La arquitectura es un arte. En este caso, utilizaremos capas densas (fully connected)\n",
        "\n",
        "*  Probar con activation: relu, tanh, linear\n",
        "*  Probar optimizadores: Adam, SGD, RMSProp, Adagrad\n",
        "*  Probar combinaciones de capas"
      ]
    },
    {
      "cell_type": "code",
      "execution_count": 28,
      "metadata": {
        "id": "KBen4e5AO3C2"
      },
      "outputs": [],
      "source": [
        "from tensorflow.keras import Sequential, Input\n",
        "from tensorflow.keras.layers import Dense"
      ]
    },
    {
      "cell_type": "code",
      "execution_count": 91,
      "metadata": {
        "id": "puGktXtIPSoY"
      },
      "outputs": [],
      "source": [
        "model = Sequential()\n",
        "model.add(Input(shape = (6,)))\n",
        "model.add(Dense(20, activation ='linear'))\n",
        "model.add(Dense(10, activation = 'linear'))\n",
        "model.add(Dense(2, activation = 'softmax'))"
      ]
    },
    {
      "cell_type": "code",
      "execution_count": 92,
      "metadata": {
        "id": "tya4nkgQRW9i"
      },
      "outputs": [],
      "source": [
        "from sklearn import metrics\n",
        "model.compile(loss = 'categorical_crossentropy',\n",
        "              optimizer = 'sgd',\n",
        "              metrics = ['accuracy'])"
      ]
    },
    {
      "cell_type": "markdown",
      "metadata": {
        "id": "ZWUT4waFZ_Zn"
      },
      "source": [
        "### Visualización del modelo"
      ]
    },
    {
      "cell_type": "code",
      "execution_count": 93,
      "metadata": {
        "colab": {
          "base_uri": "https://localhost:8080/"
        },
        "id": "G0IIz4biWgxD",
        "outputId": "2e63f132-5bad-4386-b200-07218ad235c4"
      },
      "outputs": [
        {
          "output_type": "stream",
          "name": "stdout",
          "text": [
            "Model: \"sequential_2\"\n",
            "_________________________________________________________________\n",
            " Layer (type)                Output Shape              Param #   \n",
            "=================================================================\n",
            " dense_3 (Dense)             (None, 20)                140       \n",
            "                                                                 \n",
            " dense_4 (Dense)             (None, 10)                210       \n",
            "                                                                 \n",
            " dense_5 (Dense)             (None, 2)                 22        \n",
            "                                                                 \n",
            "=================================================================\n",
            "Total params: 372\n",
            "Trainable params: 372\n",
            "Non-trainable params: 0\n",
            "_________________________________________________________________\n"
          ]
        }
      ],
      "source": [
        "model.summary()"
      ]
    },
    {
      "cell_type": "code",
      "execution_count": 94,
      "metadata": {
        "id": "6oCvzt-RY_HV"
      },
      "outputs": [],
      "source": [
        "from tensorflow.keras.utils import plot_model"
      ]
    },
    {
      "cell_type": "code",
      "source": [
        "plot_model(model, show_shapes = True, show_layer_activations = True)"
      ],
      "metadata": {
        "colab": {
          "base_uri": "https://localhost:8080/",
          "height": 422
        },
        "id": "FItXzJOitUQq",
        "outputId": "12f2f459-01b3-4fad-c7f1-1a39441cec50"
      },
      "execution_count": 95,
      "outputs": [
        {
          "output_type": "execute_result",
          "data": {
            "image/png": "[encoded data removed]",
            "text/plain": [
              "<IPython.core.display.Image object>"
            ]
          },
          "metadata": {},
          "execution_count": 95
        }
      ]
    },
    {
      "cell_type": "markdown",
      "metadata": {
        "id": "QBMlBd2iZAW4"
      },
      "source": [
        "### Entrenamiento"
      ]
    },
    {
      "cell_type": "code",
      "execution_count": 96,
      "metadata": {
        "colab": {
          "base_uri": "https://localhost:8080/"
        },
        "id": "TIkNhGDeSYQR",
        "outputId": "319b5886-ef17-4dc7-e419-086a569eb427"
      },
      "outputs": [
        {
          "output_type": "stream",
          "name": "stdout",
          "text": [
            "Epoch 1/50\n",
            "5/5 [==============================] - 0s 36ms/step - loss: 0.9975 - accuracy: 0.3087 - val_loss: 0.9488 - val_accuracy: 0.3220\n",
            "Epoch 2/50\n",
            "5/5 [==============================] - 0s 8ms/step - loss: 0.8958 - accuracy: 0.3742 - val_loss: 0.8592 - val_accuracy: 0.3729\n",
            "Epoch 3/50\n",
            "5/5 [==============================] - 0s 9ms/step - loss: 0.8179 - accuracy: 0.4362 - val_loss: 0.7876 - val_accuracy: 0.4983\n",
            "Epoch 4/50\n",
            "5/5 [==============================] - 0s 11ms/step - loss: 0.7550 - accuracy: 0.5403 - val_loss: 0.7299 - val_accuracy: 0.5695\n",
            "Epoch 5/50\n",
            "5/5 [==============================] - 0s 12ms/step - loss: 0.7049 - accuracy: 0.6040 - val_loss: 0.6852 - val_accuracy: 0.6305\n",
            "Epoch 6/50\n",
            "5/5 [==============================] - 0s 12ms/step - loss: 0.6656 - accuracy: 0.6493 - val_loss: 0.6492 - val_accuracy: 0.6576\n",
            "Epoch 7/50\n",
            "5/5 [==============================] - 0s 8ms/step - loss: 0.6348 - accuracy: 0.6846 - val_loss: 0.6195 - val_accuracy: 0.6678\n",
            "Epoch 8/50\n",
            "5/5 [==============================] - 0s 10ms/step - loss: 0.6092 - accuracy: 0.7198 - val_loss: 0.5954 - val_accuracy: 0.6915\n",
            "Epoch 9/50\n",
            "5/5 [==============================] - 0s 8ms/step - loss: 0.5889 - accuracy: 0.7466 - val_loss: 0.5744 - val_accuracy: 0.7322\n",
            "Epoch 10/50\n",
            "5/5 [==============================] - 0s 9ms/step - loss: 0.5714 - accuracy: 0.7601 - val_loss: 0.5572 - val_accuracy: 0.7356\n",
            "Epoch 11/50\n",
            "5/5 [==============================] - 0s 8ms/step - loss: 0.5570 - accuracy: 0.7651 - val_loss: 0.5428 - val_accuracy: 0.7322\n",
            "Epoch 12/50\n",
            "5/5 [==============================] - 0s 11ms/step - loss: 0.5455 - accuracy: 0.7668 - val_loss: 0.5298 - val_accuracy: 0.7424\n",
            "Epoch 13/50\n",
            "5/5 [==============================] - 0s 10ms/step - loss: 0.5347 - accuracy: 0.7802 - val_loss: 0.5185 - val_accuracy: 0.7763\n",
            "Epoch 14/50\n",
            "5/5 [==============================] - 0s 8ms/step - loss: 0.5256 - accuracy: 0.7903 - val_loss: 0.5086 - val_accuracy: 0.7864\n",
            "Epoch 15/50\n",
            "5/5 [==============================] - 0s 8ms/step - loss: 0.5179 - accuracy: 0.7869 - val_loss: 0.5001 - val_accuracy: 0.7898\n",
            "Epoch 16/50\n",
            "5/5 [==============================] - 0s 8ms/step - loss: 0.5115 - accuracy: 0.7953 - val_loss: 0.4926 - val_accuracy: 0.7898\n",
            "Epoch 17/50\n",
            "5/5 [==============================] - 0s 8ms/step - loss: 0.5058 - accuracy: 0.7919 - val_loss: 0.4857 - val_accuracy: 0.7966\n",
            "Epoch 18/50\n",
            "5/5 [==============================] - 0s 8ms/step - loss: 0.5006 - accuracy: 0.7970 - val_loss: 0.4798 - val_accuracy: 0.8068\n",
            "Epoch 19/50\n",
            "5/5 [==============================] - 0s 8ms/step - loss: 0.4961 - accuracy: 0.8037 - val_loss: 0.4746 - val_accuracy: 0.8034\n",
            "Epoch 20/50\n",
            "5/5 [==============================] - 0s 8ms/step - loss: 0.4924 - accuracy: 0.8037 - val_loss: 0.4699 - val_accuracy: 0.8068\n",
            "Epoch 21/50\n",
            "5/5 [==============================] - 0s 12ms/step - loss: 0.4892 - accuracy: 0.8003 - val_loss: 0.4657 - val_accuracy: 0.8068\n",
            "Epoch 22/50\n",
            "5/5 [==============================] - 0s 7ms/step - loss: 0.4863 - accuracy: 0.7936 - val_loss: 0.4618 - val_accuracy: 0.8068\n",
            "Epoch 23/50\n",
            "5/5 [==============================] - 0s 12ms/step - loss: 0.4838 - accuracy: 0.7970 - val_loss: 0.4582 - val_accuracy: 0.8068\n",
            "Epoch 24/50\n",
            "5/5 [==============================] - 0s 12ms/step - loss: 0.4813 - accuracy: 0.7970 - val_loss: 0.4551 - val_accuracy: 0.8068\n",
            "Epoch 25/50\n",
            "5/5 [==============================] - 0s 13ms/step - loss: 0.4792 - accuracy: 0.7936 - val_loss: 0.4522 - val_accuracy: 0.8068\n",
            "Epoch 26/50\n",
            "5/5 [==============================] - 0s 12ms/step - loss: 0.4775 - accuracy: 0.7919 - val_loss: 0.4494 - val_accuracy: 0.8068\n",
            "Epoch 27/50\n",
            "5/5 [==============================] - 0s 12ms/step - loss: 0.4758 - accuracy: 0.7919 - val_loss: 0.4469 - val_accuracy: 0.8068\n",
            "Epoch 28/50\n",
            "5/5 [==============================] - 0s 9ms/step - loss: 0.4744 - accuracy: 0.7936 - val_loss: 0.4446 - val_accuracy: 0.8068\n",
            "Epoch 29/50\n",
            "5/5 [==============================] - 0s 12ms/step - loss: 0.4732 - accuracy: 0.7936 - val_loss: 0.4427 - val_accuracy: 0.8068\n",
            "Epoch 30/50\n",
            "5/5 [==============================] - 0s 7ms/step - loss: 0.4720 - accuracy: 0.7936 - val_loss: 0.4407 - val_accuracy: 0.8034\n",
            "Epoch 31/50\n",
            "5/5 [==============================] - 0s 7ms/step - loss: 0.4712 - accuracy: 0.7936 - val_loss: 0.4389 - val_accuracy: 0.8000\n",
            "Epoch 32/50\n",
            "5/5 [==============================] - 0s 11ms/step - loss: 0.4701 - accuracy: 0.7953 - val_loss: 0.4372 - val_accuracy: 0.8034\n",
            "Epoch 33/50\n",
            "5/5 [==============================] - 0s 11ms/step - loss: 0.4692 - accuracy: 0.7953 - val_loss: 0.4356 - val_accuracy: 0.8034\n",
            "Epoch 34/50\n",
            "5/5 [==============================] - 0s 7ms/step - loss: 0.4685 - accuracy: 0.7953 - val_loss: 0.4339 - val_accuracy: 0.8034\n",
            "Epoch 35/50\n",
            "5/5 [==============================] - 0s 7ms/step - loss: 0.4678 - accuracy: 0.7936 - val_loss: 0.4327 - val_accuracy: 0.8034\n",
            "Epoch 36/50\n",
            "5/5 [==============================] - 0s 7ms/step - loss: 0.4671 - accuracy: 0.7936 - val_loss: 0.4317 - val_accuracy: 0.8034\n",
            "Epoch 37/50\n",
            "5/5 [==============================] - 0s 11ms/step - loss: 0.4667 - accuracy: 0.7953 - val_loss: 0.4306 - val_accuracy: 0.8068\n",
            "Epoch 38/50\n",
            "5/5 [==============================] - 0s 9ms/step - loss: 0.4663 - accuracy: 0.7970 - val_loss: 0.4296 - val_accuracy: 0.8068\n",
            "Epoch 39/50\n",
            "5/5 [==============================] - 0s 8ms/step - loss: 0.4656 - accuracy: 0.7953 - val_loss: 0.4286 - val_accuracy: 0.8068\n",
            "Epoch 40/50\n",
            "5/5 [==============================] - 0s 8ms/step - loss: 0.4655 - accuracy: 0.7953 - val_loss: 0.4275 - val_accuracy: 0.8068\n",
            "Epoch 41/50\n",
            "5/5 [==============================] - 0s 12ms/step - loss: 0.4649 - accuracy: 0.7970 - val_loss: 0.4267 - val_accuracy: 0.8068\n",
            "Epoch 42/50\n",
            "5/5 [==============================] - 0s 8ms/step - loss: 0.4646 - accuracy: 0.7953 - val_loss: 0.4258 - val_accuracy: 0.8068\n",
            "Epoch 43/50\n",
            "5/5 [==============================] - 0s 12ms/step - loss: 0.4642 - accuracy: 0.7987 - val_loss: 0.4250 - val_accuracy: 0.8068\n",
            "Epoch 44/50\n",
            "5/5 [==============================] - 0s 14ms/step - loss: 0.4639 - accuracy: 0.7970 - val_loss: 0.4244 - val_accuracy: 0.8068\n",
            "Epoch 45/50\n",
            "5/5 [==============================] - 0s 8ms/step - loss: 0.4639 - accuracy: 0.7970 - val_loss: 0.4237 - val_accuracy: 0.8068\n",
            "Epoch 46/50\n",
            "5/5 [==============================] - 0s 13ms/step - loss: 0.4636 - accuracy: 0.7970 - val_loss: 0.4231 - val_accuracy: 0.8068\n",
            "Epoch 47/50\n",
            "5/5 [==============================] - 0s 12ms/step - loss: 0.4636 - accuracy: 0.7953 - val_loss: 0.4227 - val_accuracy: 0.8068\n",
            "Epoch 48/50\n",
            "5/5 [==============================] - 0s 11ms/step - loss: 0.4632 - accuracy: 0.7953 - val_loss: 0.4222 - val_accuracy: 0.8068\n",
            "Epoch 49/50\n",
            "5/5 [==============================] - 0s 13ms/step - loss: 0.4633 - accuracy: 0.7970 - val_loss: 0.4216 - val_accuracy: 0.8068\n",
            "Epoch 50/50\n",
            "5/5 [==============================] - 0s 7ms/step - loss: 0.4627 - accuracy: 0.7936 - val_loss: 0.4210 - val_accuracy: 0.8068\n"
          ]
        }
      ],
      "source": [
        "history = model.fit(X_train, y_train, batch_size= 128, epochs=50,\n",
        "                    validation_data = (X_test,y_test))"
      ]
    },
    {
      "cell_type": "markdown",
      "metadata": {
        "id": "DpVqk7hSakkI"
      },
      "source": [
        "## Evaluación"
      ]
    },
    {
      "cell_type": "code",
      "execution_count": 97,
      "metadata": {
        "id": "9g3PwfFAS3GY"
      },
      "outputs": [],
      "source": [
        "from sklearn.metrics import accuracy_score"
      ]
    },
    {
      "cell_type": "code",
      "execution_count": 98,
      "metadata": {
        "colab": {
          "base_uri": "https://localhost:8080/"
        },
        "id": "b_UV4qQ8ao74",
        "outputId": "d541b082-be97-44f8-fefd-cbf94b5d6369"
      },
      "outputs": [
        {
          "output_type": "stream",
          "name": "stdout",
          "text": [
            "10/10 [==============================] - 0s 1ms/step\n"
          ]
        }
      ],
      "source": [
        "y_pred = model.predict(X_test)"
      ]
    },
    {
      "cell_type": "code",
      "execution_count": 99,
      "metadata": {
        "id": "U1UAxBLVa1M4",
        "colab": {
          "base_uri": "https://localhost:8080/"
        },
        "outputId": "41872d26-89d3-4d0b-edc9-7379e2dbafe3"
      },
      "outputs": [
        {
          "output_type": "execute_result",
          "data": {
            "text/plain": [
              "array([[0.90626025, 0.09373974],\n",
              "       [0.766098  , 0.23390198],\n",
              "       [0.8384486 , 0.16155142],\n",
              "       [0.14091304, 0.85908693],\n",
              "       [0.33745623, 0.6625437 ]], dtype=float32)"
            ]
          },
          "metadata": {},
          "execution_count": 99
        }
      ],
      "source": [
        "y_pred[:5]"
      ]
    },
    {
      "cell_type": "code",
      "execution_count": 100,
      "metadata": {
        "colab": {
          "base_uri": "https://localhost:8080/"
        },
        "id": "lhG05iATauBv",
        "outputId": "c402bfa6-53d9-4f76-c4cc-d2215133af4b"
      },
      "outputs": [
        {
          "output_type": "execute_result",
          "data": {
            "text/plain": [
              "array([[0., 1.],\n",
              "       [1., 0.],\n",
              "       [1., 0.],\n",
              "       [0., 1.],\n",
              "       [0., 1.]])"
            ]
          },
          "metadata": {},
          "execution_count": 100
        }
      ],
      "source": [
        "y_test[:5]"
      ]
    },
    {
      "cell_type": "code",
      "source": [
        "y_pred_clase = np.argmax(y_pred, axis=1)"
      ],
      "metadata": {
        "id": "G9HBJHQQumJU"
      },
      "execution_count": 101,
      "outputs": []
    },
    {
      "cell_type": "code",
      "source": [
        "y_test_clase = np.argmax(y_test, axis=1)"
      ],
      "metadata": {
        "id": "_HxhyqyIu8e1"
      },
      "execution_count": 102,
      "outputs": []
    },
    {
      "cell_type": "code",
      "source": [
        "accuracy_score(y_pred_clase,y_test_clase)"
      ],
      "metadata": {
        "colab": {
          "base_uri": "https://localhost:8080/"
        },
        "id": "Vd44DSKJvAaD",
        "outputId": "719551e1-8462-47dd-9884-f36c49eaec93"
      },
      "execution_count": 103,
      "outputs": [
        {
          "output_type": "execute_result",
          "data": {
            "text/plain": [
              "0.8067796610169492"
            ]
          },
          "metadata": {},
          "execution_count": 103
        }
      ]
    },
    {
      "cell_type": "markdown",
      "metadata": {
        "id": "_p5y0kCJi2xO"
      },
      "source": [
        "## Evolución del entrenamiento"
      ]
    },
    {
      "cell_type": "code",
      "execution_count": 55,
      "metadata": {
        "id": "SgorvIykjAE_"
      },
      "outputs": [],
      "source": [
        "import matplotlib.pyplot as plt"
      ]
    },
    {
      "cell_type": "code",
      "execution_count": 109,
      "metadata": {
        "colab": {
          "base_uri": "https://localhost:8080/",
          "height": 607
        },
        "id": "MXRTAJK1jJ-I",
        "outputId": "3ae64fa0-1142-4c08-d378-e7ae9fccbc94"
      },
      "outputs": [
        {
          "output_type": "display_data",
          "data": {
            "text/plain": [
              "<Figure size 800x600 with 2 Axes>"
            ],
            "image/png": "[encoded data removed]"
          },
          "metadata": {}
        }
      ],
      "source": [
        "plt.figure(figsize=(8,6))\n",
        "plt.subplot(2,1,1)\n",
        "plt.title('Train Set - Loss')\n",
        "plt.plot(history.history['loss'])\n",
        "plt.subplot(2,1,2)\n",
        "plt.title('Train Set - Accuracy')\n",
        "plt.plot(history.history['accuracy'],color ='orange')\n",
        "\n",
        "plt.tight_layout()\n",
        "plt.show()"
      ]
    },
    {
      "cell_type": "code",
      "execution_count": null,
      "metadata": {
        "id": "JdGSHthDjgVC"
      },
      "outputs": [],
      "source": [
        "# validation set\n"
      ]
    },
    {
      "cell_type": "code",
      "execution_count": 111,
      "metadata": {
        "id": "ed7ETtTbk4cW",
        "colab": {
          "base_uri": "https://localhost:8080/",
          "height": 607
        },
        "outputId": "1b9c4cc3-a095-4c80-8b19-7048676d888a"
      },
      "outputs": [
        {
          "output_type": "display_data",
          "data": {
            "text/plain": [
              "<Figure size 800x600 with 2 Axes>"
            ],
            "image/png": "[encoded data removed]"
          },
          "metadata": {}
        }
      ],
      "source": [
        "plt.figure(figsize=(8,6))\n",
        "plt.subplot(2,1,1)\n",
        "plt.title('Validation Set - Loss')\n",
        "plt.plot(history.history['val_loss'])\n",
        "plt.subplot(2,1,2)\n",
        "plt.title('Validation Set - Accuracy')\n",
        "plt.plot(history.history['val_accuracy'],color ='orange')\n",
        "\n",
        "plt.tight_layout()\n",
        "plt.show()"
      ]
    }
  ],
  "metadata": {
    "colab": {
      "provenance": [],
      "include_colab_link": true
    },
    "kernelspec": {
      "display_name": "Python 3",
      "name": "python3"
    },
    "language_info": {
      "name": "python"
    }
  },
  "nbformat": 4,
  "nbformat_minor": 0
}