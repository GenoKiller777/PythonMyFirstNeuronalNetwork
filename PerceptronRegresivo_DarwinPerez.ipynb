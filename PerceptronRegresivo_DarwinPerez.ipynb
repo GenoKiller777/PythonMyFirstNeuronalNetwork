{
  "nbformat": 4,
  "nbformat_minor": 0,
  "metadata": {
    "colab": {
      "provenance": [],
      "authorship_tag": "ABX9TyMuUm3ck3OIj7qgRvmcRgtU",
      "include_colab_link": true
    },
    "kernelspec": {
      "name": "python3",
      "display_name": "Python 3"
    },
    "language_info": {
      "name": "python"
    }
  },
  "cells": [
    {
      "cell_type": "markdown",
      "metadata": {
        "id": "view-in-github",
        "colab_type": "text"
      },
      "source": [
        "<a href=\"https://colab.research.google.com/github/GenoKiller777/PythonMyFirstNeuronalNetwork/blob/main/PerceptronRegresivo_DarwinPerez.ipynb\" target=\"_parent\"><img src=\"https://colab.research.google.com/assets/colab-badge.svg\" alt=\"Open In Colab\"/></a>"
      ]
    },
    {
      "cell_type": "code",
      "source": [
        "from google.colab import files\n",
        "\n",
        "uploaded = files.upload()\n",
        "\n",
        "for fn in uploaded.keys():\n",
        "  print('User uploaded file \"{name}\" with length {length} bytes'.format(\n",
        "      name=fn, length=len(uploaded[fn])))"
      ],
      "metadata": {
        "colab": {
          "base_uri": "https://localhost:8080/",
          "height": 91
        },
        "id": "FFSJ12zNclVN",
        "outputId": "e3e7f8cf-8350-42f3-e60f-9c61dd4a7ae5"
      },
      "execution_count": 1,
      "outputs": [
        {
          "output_type": "display_data",
          "data": {
            "text/plain": [
              "<IPython.core.display.HTML object>"
            ],
            "text/html": [
              "\n",
              "     <input type=\"file\" id=\"files-d1dcccc5-37b2-4e2c-9b97-5c127386b106\" name=\"files[]\" multiple disabled\n",
              "        style=\"border:none\" />\n",
              "     <output id=\"result-d1dcccc5-37b2-4e2c-9b97-5c127386b106\">\n",
              "      Upload widget is only available when the cell has been executed in the\n",
              "      current browser session. Please rerun this cell to enable.\n",
              "      </output>\n",
              "      <script>// Copyright 2017 Google LLC\n",
              "//\n",
              "// Licensed under the Apache License, Version 2.0 (the \"License\");\n",
              "// you may not use this file except in compliance with the License.\n",
              "// You may obtain a copy of the License at\n",
              "//\n",
              "//      http://www.apache.org/licenses/LICENSE-2.0\n",
              "//\n",
              "// Unless required by applicable law or agreed to in writing, software\n",
              "// distributed under the License is distributed on an \"AS IS\" BASIS,\n",
              "// WITHOUT WARRANTIES OR CONDITIONS OF ANY KIND, either express or implied.\n",
              "// See the License for the specific language governing permissions and\n",
              "// limitations under the License.\n",
              "\n",
              "/**\n",
              " * @fileoverview Helpers for google.colab Python module.\n",
              " */\n",
              "(function(scope) {\n",
              "function span(text, styleAttributes = {}) {\n",
              "  const element = document.createElement('span');\n",
              "  element.textContent = text;\n",
              "  for (const key of Object.keys(styleAttributes)) {\n",
              "    element.style[key] = styleAttributes[key];\n",
              "  }\n",
              "  return element;\n",
              "}\n",
              "\n",
              "// Max number of bytes which will be uploaded at a time.\n",
              "const MAX_PAYLOAD_SIZE = 100 * 1024;\n",
              "\n",
              "function _uploadFiles(inputId, outputId) {\n",
              "  const steps = uploadFilesStep(inputId, outputId);\n",
              "  const outputElement = document.getElementById(outputId);\n",
              "  // Cache steps on the outputElement to make it available for the next call\n",
              "  // to uploadFilesContinue from Python.\n",
              "  outputElement.steps = steps;\n",
              "\n",
              "  return _uploadFilesContinue(outputId);\n",
              "}\n",
              "\n",
              "// This is roughly an async generator (not supported in the browser yet),\n",
              "// where there are multiple asynchronous steps and the Python side is going\n",
              "// to poll for completion of each step.\n",
              "// This uses a Promise to block the python side on completion of each step,\n",
              "// then passes the result of the previous step as the input to the next step.\n",
              "function _uploadFilesContinue(outputId) {\n",
              "  const outputElement = document.getElementById(outputId);\n",
              "  const steps = outputElement.steps;\n",
              "\n",
              "  const next = steps.next(outputElement.lastPromiseValue);\n",
              "  return Promise.resolve(next.value.promise).then((value) => {\n",
              "    // Cache the last promise value to make it available to the next\n",
              "    // step of the generator.\n",
              "    outputElement.lastPromiseValue = value;\n",
              "    return next.value.response;\n",
              "  });\n",
              "}\n",
              "\n",
              "/**\n",
              " * Generator function which is called between each async step of the upload\n",
              " * process.\n",
              " * @param {string} inputId Element ID of the input file picker element.\n",
              " * @param {string} outputId Element ID of the output display.\n",
              " * @return {!Iterable<!Object>} Iterable of next steps.\n",
              " */\n",
              "function* uploadFilesStep(inputId, outputId) {\n",
              "  const inputElement = document.getElementById(inputId);\n",
              "  inputElement.disabled = false;\n",
              "\n",
              "  const outputElement = document.getElementById(outputId);\n",
              "  outputElement.innerHTML = '';\n",
              "\n",
              "  const pickedPromise = new Promise((resolve) => {\n",
              "    inputElement.addEventListener('change', (e) => {\n",
              "      resolve(e.target.files);\n",
              "    });\n",
              "  });\n",
              "\n",
              "  const cancel = document.createElement('button');\n",
              "  inputElement.parentElement.appendChild(cancel);\n",
              "  cancel.textContent = 'Cancel upload';\n",
              "  const cancelPromise = new Promise((resolve) => {\n",
              "    cancel.onclick = () => {\n",
              "      resolve(null);\n",
              "    };\n",
              "  });\n",
              "\n",
              "  // Wait for the user to pick the files.\n",
              "  const files = yield {\n",
              "    promise: Promise.race([pickedPromise, cancelPromise]),\n",
              "    response: {\n",
              "      action: 'starting',\n",
              "    }\n",
              "  };\n",
              "\n",
              "  cancel.remove();\n",
              "\n",
              "  // Disable the input element since further picks are not allowed.\n",
              "  inputElement.disabled = true;\n",
              "\n",
              "  if (!files) {\n",
              "    return {\n",
              "      response: {\n",
              "        action: 'complete',\n",
              "      }\n",
              "    };\n",
              "  }\n",
              "\n",
              "  for (const file of files) {\n",
              "    const li = document.createElement('li');\n",
              "    li.append(span(file.name, {fontWeight: 'bold'}));\n",
              "    li.append(span(\n",
              "        `(${file.type || 'n/a'}) - ${file.size} bytes, ` +\n",
              "        `last modified: ${\n",
              "            file.lastModifiedDate ? file.lastModifiedDate.toLocaleDateString() :\n",
              "                                    'n/a'} - `));\n",
              "    const percent = span('0% done');\n",
              "    li.appendChild(percent);\n",
              "\n",
              "    outputElement.appendChild(li);\n",
              "\n",
              "    const fileDataPromise = new Promise((resolve) => {\n",
              "      const reader = new FileReader();\n",
              "      reader.onload = (e) => {\n",
              "        resolve(e.target.result);\n",
              "      };\n",
              "      reader.readAsArrayBuffer(file);\n",
              "    });\n",
              "    // Wait for the data to be ready.\n",
              "    let fileData = yield {\n",
              "      promise: fileDataPromise,\n",
              "      response: {\n",
              "        action: 'continue',\n",
              "      }\n",
              "    };\n",
              "\n",
              "    // Use a chunked sending to avoid message size limits. See b/62115660.\n",
              "    let position = 0;\n",
              "    do {\n",
              "      const length = Math.min(fileData.byteLength - position, MAX_PAYLOAD_SIZE);\n",
              "      const chunk = new Uint8Array(fileData, position, length);\n",
              "      position += length;\n",
              "\n",
              "      const base64 = btoa(String.fromCharCode.apply(null, chunk));\n",
              "      yield {\n",
              "        response: {\n",
              "          action: 'append',\n",
              "          file: file.name,\n",
              "          data: base64,\n",
              "        },\n",
              "      };\n",
              "\n",
              "      let percentDone = fileData.byteLength === 0 ?\n",
              "          100 :\n",
              "          Math.round((position / fileData.byteLength) * 100);\n",
              "      percent.textContent = `${percentDone}% done`;\n",
              "\n",
              "    } while (position < fileData.byteLength);\n",
              "  }\n",
              "\n",
              "  // All done.\n",
              "  yield {\n",
              "    response: {\n",
              "      action: 'complete',\n",
              "    }\n",
              "  };\n",
              "}\n",
              "\n",
              "scope.google = scope.google || {};\n",
              "scope.google.colab = scope.google.colab || {};\n",
              "scope.google.colab._files = {\n",
              "  _uploadFiles,\n",
              "  _uploadFilesContinue,\n",
              "};\n",
              "})(self);\n",
              "</script> "
            ]
          },
          "metadata": {}
        },
        {
          "output_type": "stream",
          "name": "stdout",
          "text": [
            "Saving Ecommerce.csv to Ecommerce.csv\n",
            "User uploaded file \"Ecommerce.csv\" with length 87360 bytes\n"
          ]
        }
      ]
    },
    {
      "cell_type": "code",
      "source": [
        "import pandas as pd\n",
        "import numpy as np\n",
        "\n",
        "import matplotlib.pyplot as plt"
      ],
      "metadata": {
        "id": "9C6_WDo_dHlb"
      },
      "execution_count": 2,
      "outputs": []
    },
    {
      "cell_type": "code",
      "source": [
        "df = pd.read_csv('Ecommerce.csv')"
      ],
      "metadata": {
        "id": "Y4M6vYIddJXn"
      },
      "execution_count": 3,
      "outputs": []
    },
    {
      "cell_type": "code",
      "source": [
        "df = df.loc[:, 'Avg. Session Length':'Yearly Amount Spent']"
      ],
      "metadata": {
        "id": "HpHT4eLkeckk"
      },
      "execution_count": 4,
      "outputs": []
    },
    {
      "cell_type": "code",
      "source": [
        "df.describe().T"
      ],
      "metadata": {
        "colab": {
          "base_uri": "https://localhost:8080/",
          "height": 206
        },
        "id": "iOpPbx9Ze3iK",
        "outputId": "7bc1b91e-1b1f-4bee-89b6-044c96818877"
      },
      "execution_count": 5,
      "outputs": [
        {
          "output_type": "execute_result",
          "data": {
            "text/plain": [
              "                      count        mean        std         min         25%  \\\n",
              "Avg. Session Length   500.0   33.053194   0.992563   29.532429   32.341822   \n",
              "Time on App           500.0   12.052488   0.994216    8.508152   11.388153   \n",
              "Time on Website       500.0   37.060445   1.010489   33.913847   36.349257   \n",
              "Length of Membership  500.0    3.533462   0.999278    0.269901    2.930450   \n",
              "Yearly Amount Spent   500.0  499.314038  79.314782  256.670582  445.038277   \n",
              "\n",
              "                             50%         75%         max  \n",
              "Avg. Session Length    33.082008   33.711985   36.139662  \n",
              "Time on App            11.983231   12.753850   15.126994  \n",
              "Time on Website        37.069367   37.716432   40.005182  \n",
              "Length of Membership    3.533975    4.126502    6.922689  \n",
              "Yearly Amount Spent   498.887875  549.313828  765.518462  "
            ],
            "text/html": [
              "\n",
              "\n",
              "  <div id=\"df-4f2fba9c-ca67-49a4-9a4b-a79a6912ec42\">\n",
              "    <div class=\"colab-df-container\">\n",
              "      <div>\n",
              "<style scoped>\n",
              "    .dataframe tbody tr th:only-of-type {\n",
              "        vertical-align: middle;\n",
              "    }\n",
              "\n",
              "    .dataframe tbody tr th {\n",
              "        vertical-align: top;\n",
              "    }\n",
              "\n",
              "    .dataframe thead th {\n",
              "        text-align: right;\n",
              "    }\n",
              "</style>\n",
              "<table border=\"1\" class=\"dataframe\">\n",
              "  <thead>\n",
              "    <tr style=\"text-align: right;\">\n",
              "      <th></th>\n",
              "      <th>count</th>\n",
              "      <th>mean</th>\n",
              "      <th>std</th>\n",
              "      <th>min</th>\n",
              "      <th>25%</th>\n",
              "      <th>50%</th>\n",
              "      <th>75%</th>\n",
              "      <th>max</th>\n",
              "    </tr>\n",
              "  </thead>\n",
              "  <tbody>\n",
              "    <tr>\n",
              "      <th>Avg. Session Length</th>\n",
              "      <td>500.0</td>\n",
              "      <td>33.053194</td>\n",
              "      <td>0.992563</td>\n",
              "      <td>29.532429</td>\n",
              "      <td>32.341822</td>\n",
              "      <td>33.082008</td>\n",
              "      <td>33.711985</td>\n",
              "      <td>36.139662</td>\n",
              "    </tr>\n",
              "    <tr>\n",
              "      <th>Time on App</th>\n",
              "      <td>500.0</td>\n",
              "      <td>12.052488</td>\n",
              "      <td>0.994216</td>\n",
              "      <td>8.508152</td>\n",
              "      <td>11.388153</td>\n",
              "      <td>11.983231</td>\n",
              "      <td>12.753850</td>\n",
              "      <td>15.126994</td>\n",
              "    </tr>\n",
              "    <tr>\n",
              "      <th>Time on Website</th>\n",
              "      <td>500.0</td>\n",
              "      <td>37.060445</td>\n",
              "      <td>1.010489</td>\n",
              "      <td>33.913847</td>\n",
              "      <td>36.349257</td>\n",
              "      <td>37.069367</td>\n",
              "      <td>37.716432</td>\n",
              "      <td>40.005182</td>\n",
              "    </tr>\n",
              "    <tr>\n",
              "      <th>Length of Membership</th>\n",
              "      <td>500.0</td>\n",
              "      <td>3.533462</td>\n",
              "      <td>0.999278</td>\n",
              "      <td>0.269901</td>\n",
              "      <td>2.930450</td>\n",
              "      <td>3.533975</td>\n",
              "      <td>4.126502</td>\n",
              "      <td>6.922689</td>\n",
              "    </tr>\n",
              "    <tr>\n",
              "      <th>Yearly Amount Spent</th>\n",
              "      <td>500.0</td>\n",
              "      <td>499.314038</td>\n",
              "      <td>79.314782</td>\n",
              "      <td>256.670582</td>\n",
              "      <td>445.038277</td>\n",
              "      <td>498.887875</td>\n",
              "      <td>549.313828</td>\n",
              "      <td>765.518462</td>\n",
              "    </tr>\n",
              "  </tbody>\n",
              "</table>\n",
              "</div>\n",
              "      <button class=\"colab-df-convert\" onclick=\"convertToInteractive('df-4f2fba9c-ca67-49a4-9a4b-a79a6912ec42')\"\n",
              "              title=\"Convert this dataframe to an interactive table.\"\n",
              "              style=\"display:none;\">\n",
              "\n",
              "  <svg xmlns=\"http://www.w3.org/2000/svg\" height=\"24px\"viewBox=\"0 0 24 24\"\n",
              "       width=\"24px\">\n",
              "    <path d=\"M0 0h24v24H0V0z\" fill=\"none\"/>\n",
              "    <path d=\"M18.56 5.44l.94 2.06.94-2.06 2.06-.94-2.06-.94-.94-2.06-.94 2.06-2.06.94zm-11 1L8.5 8.5l.94-2.06 2.06-.94-2.06-.94L8.5 2.5l-.94 2.06-2.06.94zm10 10l.94 2.06.94-2.06 2.06-.94-2.06-.94-.94-2.06-.94 2.06-2.06.94z\"/><path d=\"M17.41 7.96l-1.37-1.37c-.4-.4-.92-.59-1.43-.59-.52 0-1.04.2-1.43.59L10.3 9.45l-7.72 7.72c-.78.78-.78 2.05 0 2.83L4 21.41c.39.39.9.59 1.41.59.51 0 1.02-.2 1.41-.59l7.78-7.78 2.81-2.81c.8-.78.8-2.07 0-2.86zM5.41 20L4 18.59l7.72-7.72 1.47 1.35L5.41 20z\"/>\n",
              "  </svg>\n",
              "      </button>\n",
              "\n",
              "\n",
              "\n",
              "    <div id=\"df-80f64425-9e5d-4f18-a50b-b2b7b00cfbef\">\n",
              "      <button class=\"colab-df-quickchart\" onclick=\"quickchart('df-80f64425-9e5d-4f18-a50b-b2b7b00cfbef')\"\n",
              "              title=\"Suggest charts.\"\n",
              "              style=\"display:none;\">\n",
              "\n",
              "<svg xmlns=\"http://www.w3.org/2000/svg\" height=\"24px\"viewBox=\"0 0 24 24\"\n",
              "     width=\"24px\">\n",
              "    <g>\n",
              "        <path d=\"M19 3H5c-1.1 0-2 .9-2 2v14c0 1.1.9 2 2 2h14c1.1 0 2-.9 2-2V5c0-1.1-.9-2-2-2zM9 17H7v-7h2v7zm4 0h-2V7h2v10zm4 0h-2v-4h2v4z\"/>\n",
              "    </g>\n",
              "</svg>\n",
              "      </button>\n",
              "    </div>\n",
              "\n",
              "<style>\n",
              "  .colab-df-quickchart {\n",
              "    background-color: #E8F0FE;\n",
              "    border: none;\n",
              "    border-radius: 50%;\n",
              "    cursor: pointer;\n",
              "    display: none;\n",
              "    fill: #1967D2;\n",
              "    height: 32px;\n",
              "    padding: 0 0 0 0;\n",
              "    width: 32px;\n",
              "  }\n",
              "\n",
              "  .colab-df-quickchart:hover {\n",
              "    background-color: #E2EBFA;\n",
              "    box-shadow: 0px 1px 2px rgba(60, 64, 67, 0.3), 0px 1px 3px 1px rgba(60, 64, 67, 0.15);\n",
              "    fill: #174EA6;\n",
              "  }\n",
              "\n",
              "  [theme=dark] .colab-df-quickchart {\n",
              "    background-color: #3B4455;\n",
              "    fill: #D2E3FC;\n",
              "  }\n",
              "\n",
              "  [theme=dark] .colab-df-quickchart:hover {\n",
              "    background-color: #434B5C;\n",
              "    box-shadow: 0px 1px 3px 1px rgba(0, 0, 0, 0.15);\n",
              "    filter: drop-shadow(0px 1px 2px rgba(0, 0, 0, 0.3));\n",
              "    fill: #FFFFFF;\n",
              "  }\n",
              "</style>\n",
              "\n",
              "    <script>\n",
              "      async function quickchart(key) {\n",
              "        const containerElement = document.querySelector('#' + key);\n",
              "        const charts = await google.colab.kernel.invokeFunction(\n",
              "            'suggestCharts', [key], {});\n",
              "      }\n",
              "    </script>\n",
              "\n",
              "      <script>\n",
              "\n",
              "function displayQuickchartButton(domScope) {\n",
              "  let quickchartButtonEl =\n",
              "    domScope.querySelector('#df-80f64425-9e5d-4f18-a50b-b2b7b00cfbef button.colab-df-quickchart');\n",
              "  quickchartButtonEl.style.display =\n",
              "    google.colab.kernel.accessAllowed ? 'block' : 'none';\n",
              "}\n",
              "\n",
              "        displayQuickchartButton(document);\n",
              "      </script>\n",
              "      <style>\n",
              "    .colab-df-container {\n",
              "      display:flex;\n",
              "      flex-wrap:wrap;\n",
              "      gap: 12px;\n",
              "    }\n",
              "\n",
              "    .colab-df-convert {\n",
              "      background-color: #E8F0FE;\n",
              "      border: none;\n",
              "      border-radius: 50%;\n",
              "      cursor: pointer;\n",
              "      display: none;\n",
              "      fill: #1967D2;\n",
              "      height: 32px;\n",
              "      padding: 0 0 0 0;\n",
              "      width: 32px;\n",
              "    }\n",
              "\n",
              "    .colab-df-convert:hover {\n",
              "      background-color: #E2EBFA;\n",
              "      box-shadow: 0px 1px 2px rgba(60, 64, 67, 0.3), 0px 1px 3px 1px rgba(60, 64, 67, 0.15);\n",
              "      fill: #174EA6;\n",
              "    }\n",
              "\n",
              "    [theme=dark] .colab-df-convert {\n",
              "      background-color: #3B4455;\n",
              "      fill: #D2E3FC;\n",
              "    }\n",
              "\n",
              "    [theme=dark] .colab-df-convert:hover {\n",
              "      background-color: #434B5C;\n",
              "      box-shadow: 0px 1px 3px 1px rgba(0, 0, 0, 0.15);\n",
              "      filter: drop-shadow(0px 1px 2px rgba(0, 0, 0, 0.3));\n",
              "      fill: #FFFFFF;\n",
              "    }\n",
              "  </style>\n",
              "\n",
              "      <script>\n",
              "        const buttonEl =\n",
              "          document.querySelector('#df-4f2fba9c-ca67-49a4-9a4b-a79a6912ec42 button.colab-df-convert');\n",
              "        buttonEl.style.display =\n",
              "          google.colab.kernel.accessAllowed ? 'block' : 'none';\n",
              "\n",
              "        async function convertToInteractive(key) {\n",
              "          const element = document.querySelector('#df-4f2fba9c-ca67-49a4-9a4b-a79a6912ec42');\n",
              "          const dataTable =\n",
              "            await google.colab.kernel.invokeFunction('convertToInteractive',\n",
              "                                                     [key], {});\n",
              "          if (!dataTable) return;\n",
              "\n",
              "          const docLinkHtml = 'Like what you see? Visit the ' +\n",
              "            '<a target=\"_blank\" href=https://colab.research.google.com/notebooks/data_table.ipynb>data table notebook</a>'\n",
              "            + ' to learn more about interactive tables.';\n",
              "          element.innerHTML = '';\n",
              "          dataTable['output_type'] = 'display_data';\n",
              "          await google.colab.output.renderOutput(dataTable, element);\n",
              "          const docLink = document.createElement('div');\n",
              "          docLink.innerHTML = docLinkHtml;\n",
              "          element.appendChild(docLink);\n",
              "        }\n",
              "      </script>\n",
              "    </div>\n",
              "  </div>\n"
            ]
          },
          "metadata": {},
          "execution_count": 5
        }
      ]
    },
    {
      "cell_type": "code",
      "source": [
        "# Matriz de Features\n",
        "X = df.drop('Yearly Amount Spent', axis=1).values\n",
        "\n",
        "# Variable objetivo\n",
        "y = df['Yearly Amount Spent'].values"
      ],
      "metadata": {
        "id": "7yB671REfHQa"
      },
      "execution_count": 6,
      "outputs": []
    },
    {
      "cell_type": "code",
      "source": [
        "# Define una función que calcule el producto punto entre dos vectores:\n",
        "def dot_product(x, w):\n",
        "    return np.dot(x,w)"
      ],
      "metadata": {
        "id": "db7sFImYfMug"
      },
      "execution_count": 7,
      "outputs": []
    },
    {
      "cell_type": "code",
      "source": [
        "# Define la función de activación.\n",
        "def activation(x):\n",
        "    # en este caso será la función lineal\n",
        "    return x"
      ],
      "metadata": {
        "id": "g6QmLyF5ic2J"
      },
      "execution_count": 8,
      "outputs": []
    },
    {
      "cell_type": "code",
      "source": [
        "# Define la función de entrenamiento del perceptrón:\n",
        "def perceptron_train(X, y, num_epochs, learning_rate):\n",
        "\n",
        "  # inicalizar pesos de forma aleatoria\n",
        "  weights = np.random.rand( X.shape[1] )\n",
        "\n",
        "  # acá dejaremos el error que hubo en cada iteración\n",
        "  errors = []\n",
        "\n",
        "  # iterar las epocas\n",
        "  for epochs in range(num_epochs):\n",
        "\n",
        "    epoch_error = 0\n",
        "\n",
        "    # itera sobre todos los elementos del set de entrenamiento\n",
        "    for i in range(X.shape[0]):\n",
        "\n",
        "      # calcular la salida del perceptron\n",
        "      output = activation( dot_product(X[i], weights) )\n",
        "\n",
        "      #  contabilizar el error\n",
        "      if output != y[i]:\n",
        "        # definimos la siguiente metrica de error\n",
        "        error = y[i] - output\n",
        "        # actualizamos los pesos si la salida es incorrecta\n",
        "        weights = weights + learning_rate * error * X[i]\n",
        "        epoch_error = epoch_error + abs(error)\n",
        "\n",
        "\n",
        "    errors.append(epoch_error)\n",
        "\n",
        "  return weights, errors"
      ],
      "metadata": {
        "id": "lGWmIFZkixyX"
      },
      "execution_count": 9,
      "outputs": []
    },
    {
      "cell_type": "code",
      "execution_count": 62,
      "metadata": {
        "id": "6H4oXRVxY5z-"
      },
      "outputs": [],
      "source": [
        "# Ahora puedes utilizar la función perceptron_train para entrenar el perceptrón con tus datos de entrenamiento:\n",
        "# En este ejemplo, utilizamos los datos de entrenamiento X y y para entrenar el perceptrón durante 30 épocas,\n",
        "# con una tasa de aprendizaje de 0.1.\n",
        "# La función devuelve los pesos entrenados y los errores computados en cada epoch\n",
        "weights, errors = perceptron_train(X, y, num_epochs = 120, learning_rate=0.0001)"
      ]
    },
    {
      "cell_type": "markdown",
      "source": [
        "## Determine los pesos de cada Variable."
      ],
      "metadata": {
        "id": "Mz8qzkWAIh_s"
      }
    },
    {
      "cell_type": "code",
      "source": [
        "# estos son los pesos calculados\n",
        "weights"
      ],
      "metadata": {
        "colab": {
          "base_uri": "https://localhost:8080/"
        },
        "id": "M8yPXYraj8kp",
        "outputId": "37509414-2cf6-49dd-bc08-7bfd68bc7bb2"
      },
      "execution_count": 63,
      "outputs": [
        {
          "output_type": "execute_result",
          "data": {
            "text/plain": [
              "array([ 11.5215657 ,  34.76182537, -13.56110271,  60.00639394])"
            ]
          },
          "metadata": {},
          "execution_count": 63
        }
      ]
    },
    {
      "cell_type": "markdown",
      "source": [
        "## Haga predicciones con los siguientes datos."
      ],
      "metadata": {
        "id": "HCUWt807IqrC"
      }
    },
    {
      "cell_type": "code",
      "source": [
        "# Para hacer predicciones con el perceptrón entrenado, utilizamos la siguiente función:\n",
        "def perceptron_predict(x, weights):\n",
        "    return activation(dot_product(x, weights))"
      ],
      "metadata": {
        "id": "aELz6PTFoVlE"
      },
      "execution_count": 64,
      "outputs": []
    },
    {
      "cell_type": "code",
      "source": [
        "# Puedes utilizarla para predecir la salida de un ejemplo dado:\n",
        "x = np.array([34.497268,12.655651, 39.577668, 4.082621])\n",
        "prediction = perceptron_predict(x, weights)\n",
        "\n",
        "print(f'El valor que se obtiene es: {prediction}.')"
      ],
      "metadata": {
        "colab": {
          "base_uri": "https://localhost:8080/"
        },
        "id": "t15ZFMpjofeN",
        "outputId": "e97672a4-ae39-4943-ca98-4aef31b78349"
      },
      "execution_count": 65,
      "outputs": [
        {
          "output_type": "stream",
          "name": "stdout",
          "text": [
            "El valor que se obtiene es: 545.6626128605659.\n"
          ]
        }
      ]
    },
    {
      "cell_type": "markdown",
      "source": [
        "## Calcule el MAE."
      ],
      "metadata": {
        "id": "er9SjbykJeZC"
      }
    },
    {
      "cell_type": "code",
      "source": [
        "y_pred = [perceptron_predict(x, weights) for x in X]\n",
        "MAE = np.mean(np.abs(y - y_pred))\n",
        "\n",
        "print(f'EL Error absoluto medio es de: {MAE}.')"
      ],
      "metadata": {
        "id": "pDJj4cqOqy4a",
        "colab": {
          "base_uri": "https://localhost:8080/"
        },
        "outputId": "f7135f6a-2a77-448c-d35e-53c6e9371a33"
      },
      "execution_count": 66,
      "outputs": [
        {
          "output_type": "stream",
          "name": "stdout",
          "text": [
            "EL Error absoluto medio es de: 19.73791568712183.\n"
          ]
        }
      ]
    },
    {
      "cell_type": "markdown",
      "source": [
        "## Calcule el coeficiente R2."
      ],
      "metadata": {
        "id": "uOT9aR2MKFiA"
      }
    },
    {
      "cell_type": "code",
      "source": [
        "def r2(y_true, y_pred):\n",
        "  y_mean = sum(y_true)/len(y_true)\n",
        "  return sum((y_pred - y_mean)**2) / sum((y_true - y_mean)**2)\n",
        "\n",
        "R2 = r2(y,y_pred)"
      ],
      "metadata": {
        "id": "l8kgZXwtrG0l"
      },
      "execution_count": 67,
      "outputs": []
    },
    {
      "cell_type": "code",
      "source": [
        "print(f'EL Coeficiente R^2 es de: {round(R2*100,3)} %.')"
      ],
      "metadata": {
        "colab": {
          "base_uri": "https://localhost:8080/"
        },
        "id": "05on-zAIrbq-",
        "outputId": "8d176a80-5c9d-46f0-801e-8ceb29c73725"
      },
      "execution_count": 68,
      "outputs": [
        {
          "output_type": "stream",
          "name": "stdout",
          "text": [
            "EL Coeficiente R^2 es de: 85.837 %.\n"
          ]
        }
      ]
    },
    {
      "cell_type": "markdown",
      "source": [
        "## Grafique Error versus Epoch."
      ],
      "metadata": {
        "id": "GTi1kI0VLcjw"
      }
    },
    {
      "cell_type": "code",
      "source": [
        "plt.plot(errors,marker ='*')\n",
        "\n",
        "plt.title(\"Error vs Epoch\")\n",
        "plt.xlabel(\"Epoch\")\n",
        "plt.ylabel(\"Error\")\n",
        "plt.show()"
      ],
      "metadata": {
        "colab": {
          "base_uri": "https://localhost:8080/",
          "height": 472
        },
        "id": "EP1PsPvHty_-",
        "outputId": "7826e6ea-474f-4433-bc85-ce7f51018a47"
      },
      "execution_count": 69,
      "outputs": [
        {
          "output_type": "display_data",
          "data": {
            "text/plain": [
              "<Figure size 640x480 with 1 Axes>"
            ],
            "image/png": "[encoded data removed]"
          },
          "metadata": {}
        }
      ]
    }
  ]
}